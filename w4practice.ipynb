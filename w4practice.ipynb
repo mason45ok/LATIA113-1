{
 "cells": [
  {
   "cell_type": "markdown",
   "metadata": {},
   "source": [
    "## 本次課堂中學到的東西\n",
    "* interpolate工具-可以模擬出遺失的資料\n",
    "* def自訂函數-可以自訂一些計算方式，方便重複使用\n",
    "* pandas工具-可以建立DataFrames格式的資料，方便整理及輸出到Excel端\n",
    "* open工具-可以開啟檔案\n",
    "* write工具-可以寫入檔案內容"
   ]
  },
  {
   "cell_type": "code",
   "execution_count": 5,
   "metadata": {},
   "outputs": [
    {
     "name": "stdout",
     "output_type": "stream",
     "text": [
      "hello world\n"
     ]
    }
   ],
   "source": [
    "def hello():\n",
    "    print(\"hello world\")\n",
    "hello()"
   ]
  },
  {
   "cell_type": "code",
   "execution_count": 3,
   "metadata": {},
   "outputs": [
    {
     "name": "stdout",
     "output_type": "stream",
     "text": [
      "Ken is 13 years old\n",
      "18\n"
     ]
    }
   ],
   "source": [
    "def string(name,age):\n",
    "    msg = f'{name} is {age} years old'\n",
    "    print(msg)\n",
    "string(\"Ken\",\"13\")\n",
    "\n",
    "def add_num(x,y=10):\n",
    "    z = x + y\n",
    "    print(z)\n",
    "add_num(8)"
   ]
  },
  {
   "cell_type": "code",
   "execution_count": 2,
   "metadata": {},
   "outputs": [
    {
     "name": "stdout",
     "output_type": "stream",
     "text": [
      "0    1.0\n",
      "1    3.0\n",
      "2    5.0\n",
      "3    NaN\n",
      "4    6.0\n",
      "5    8.0\n",
      "dtype: float64\n"
     ]
    }
   ],
   "source": [
    "import pandas as pd\n",
    "import numpy as np\n",
    "s = pd.Series([1, 3, 5, np.nan, 6, 8])\n",
    "print(s)"
   ]
  },
  {
   "cell_type": "code",
   "execution_count": 6,
   "metadata": {},
   "outputs": [
    {
     "data": {
      "text/plain": [
       "(5, 8)"
      ]
     },
     "execution_count": 6,
     "metadata": {},
     "output_type": "execute_result"
    }
   ],
   "source": [
    "def two_step_add(x,y):\n",
    "    result = x + y*2\n",
    "    return result\n",
    "b = two_step_add(1,2)\n",
    "c = two_step_add(2,3)\n",
    "b,c"
   ]
  },
  {
   "cell_type": "code",
   "execution_count": 7,
   "metadata": {},
   "outputs": [
    {
     "data": {
      "text/plain": [
       "(5, 10)"
      ]
     },
     "execution_count": 7,
     "metadata": {},
     "output_type": "execute_result"
    }
   ],
   "source": [
    "def res_while(x):\n",
    "    result = 0\n",
    "    while result < 10:\n",
    "        result = result + x\n",
    "        if result == 5: # 2+2 = 4 4+2 = 6 所以不會遇到result == 5\n",
    "            return result\n",
    "    return result\n",
    "\n",
    "b = res_while(1)\n",
    "c = res_while(2)\n",
    "\n",
    "b,c"
   ]
  },
  {
   "cell_type": "code",
   "execution_count": 8,
   "metadata": {},
   "outputs": [
    {
     "name": "stdout",
     "output_type": "stream",
     "text": [
      "Original val [0.0, 0.0011, 0.25, 0.5, 0, 54, 0.75, 1.0]\n",
      "Scaled val [-1.0, -0.9978, -0.5, 0.0, -1, 107, 0.5, 1.0]\n"
     ]
    }
   ],
   "source": [
    "def tf(value):\n",
    "    return 2 * value - 1\n",
    "\n",
    "test_values = [0.0,0.0011,0.25,0.5,0,54,0.75,1.0]\n",
    "scaled_values = [tf(value) for value in test_values]\n",
    "print(f\"Original val {test_values}\")\n",
    "print(f\"Scaled val {scaled_values}\")"
   ]
  },
  {
   "cell_type": "code",
   "execution_count": 9,
   "metadata": {},
   "outputs": [
    {
     "name": "stdout",
     "output_type": "stream",
     "text": [
      "6\n"
     ]
    }
   ],
   "source": [
    "def adding(n):\n",
    "    if n == 0 or n == 1:\n",
    "        return 1\n",
    "    else:\n",
    "        return n + adding(n-1)\n",
    "    \n",
    "print(adding(3))"
   ]
  },
  {
   "cell_type": "code",
   "execution_count": 10,
   "metadata": {},
   "outputs": [],
   "source": [
    "with open(\"test.txt\",\"w\") as f1:\n",
    "    f1.write(\"good morning\")"
   ]
  },
  {
   "cell_type": "code",
   "execution_count": 13,
   "metadata": {},
   "outputs": [
    {
     "name": "stdout",
     "output_type": "stream",
     "text": [
      "2024-09-26 16:57:18.348753\n",
      "2024-09-26\n"
     ]
    }
   ],
   "source": [
    "import datetime\n",
    "print(datetime.datetime.now())\n",
    "print(datetime.date.today())"
   ]
  },
  {
   "cell_type": "code",
   "execution_count": 14,
   "metadata": {},
   "outputs": [
    {
     "data": {
      "text/plain": [
       "DatetimeIndex(['2013-01-01', '2013-01-02', '2013-01-03', '2013-01-04',\n",
       "               '2013-01-05', '2013-01-06'],\n",
       "              dtype='datetime64[ns]', freq='D')"
      ]
     },
     "execution_count": 14,
     "metadata": {},
     "output_type": "execute_result"
    }
   ],
   "source": [
    "import pandas as pd\n",
    "dates = pd.date_range(\"20130101\", periods=6)\n",
    "dates"
   ]
  },
  {
   "cell_type": "code",
   "execution_count": 17,
   "metadata": {},
   "outputs": [
    {
     "data": {
      "text/html": [
       "<div>\n",
       "<style scoped>\n",
       "    .dataframe tbody tr th:only-of-type {\n",
       "        vertical-align: middle;\n",
       "    }\n",
       "\n",
       "    .dataframe tbody tr th {\n",
       "        vertical-align: top;\n",
       "    }\n",
       "\n",
       "    .dataframe thead th {\n",
       "        text-align: right;\n",
       "    }\n",
       "</style>\n",
       "<table border=\"1\" class=\"dataframe\">\n",
       "  <thead>\n",
       "    <tr style=\"text-align: right;\">\n",
       "      <th></th>\n",
       "      <th>A</th>\n",
       "      <th>B</th>\n",
       "      <th>C</th>\n",
       "      <th>D</th>\n",
       "    </tr>\n",
       "  </thead>\n",
       "  <tbody>\n",
       "    <tr>\n",
       "      <th>2013-01-01</th>\n",
       "      <td>-0.593095</td>\n",
       "      <td>-0.861429</td>\n",
       "      <td>0.796412</td>\n",
       "      <td>-1.744072</td>\n",
       "    </tr>\n",
       "    <tr>\n",
       "      <th>2013-01-02</th>\n",
       "      <td>-1.406145</td>\n",
       "      <td>1.471192</td>\n",
       "      <td>0.587730</td>\n",
       "      <td>0.703881</td>\n",
       "    </tr>\n",
       "    <tr>\n",
       "      <th>2013-01-03</th>\n",
       "      <td>-0.707611</td>\n",
       "      <td>-0.592696</td>\n",
       "      <td>0.505460</td>\n",
       "      <td>1.593782</td>\n",
       "    </tr>\n",
       "    <tr>\n",
       "      <th>2013-01-04</th>\n",
       "      <td>-1.039450</td>\n",
       "      <td>2.350577</td>\n",
       "      <td>-0.941984</td>\n",
       "      <td>0.324839</td>\n",
       "    </tr>\n",
       "    <tr>\n",
       "      <th>2013-01-05</th>\n",
       "      <td>1.942235</td>\n",
       "      <td>-0.504341</td>\n",
       "      <td>1.293290</td>\n",
       "      <td>-0.210043</td>\n",
       "    </tr>\n",
       "    <tr>\n",
       "      <th>2013-01-06</th>\n",
       "      <td>0.339257</td>\n",
       "      <td>-0.088491</td>\n",
       "      <td>-1.270212</td>\n",
       "      <td>-1.102989</td>\n",
       "    </tr>\n",
       "  </tbody>\n",
       "</table>\n",
       "</div>"
      ],
      "text/plain": [
       "                   A         B         C         D\n",
       "2013-01-01 -0.593095 -0.861429  0.796412 -1.744072\n",
       "2013-01-02 -1.406145  1.471192  0.587730  0.703881\n",
       "2013-01-03 -0.707611 -0.592696  0.505460  1.593782\n",
       "2013-01-04 -1.039450  2.350577 -0.941984  0.324839\n",
       "2013-01-05  1.942235 -0.504341  1.293290 -0.210043\n",
       "2013-01-06  0.339257 -0.088491 -1.270212 -1.102989"
      ]
     },
     "execution_count": 17,
     "metadata": {},
     "output_type": "execute_result"
    }
   ],
   "source": [
    "import numpy as np\n",
    "import pandas as pd\n",
    "dates = pd.date_range(\"20130101\",periods = 6)\n",
    "df = pd.DataFrame(np.random.randn(6,4),index = dates,columns = list(\"ABCD\"))\n",
    "df"
   ]
  },
  {
   "cell_type": "code",
   "execution_count": 21,
   "metadata": {},
   "outputs": [
    {
     "name": "stdout",
     "output_type": "stream",
     "text": [
      "                   A         B         C         D\n",
      "2013-01-01 -0.593095 -0.861429  0.796412 -1.744072\n",
      "2013-01-02 -1.406145  1.471192  0.587730  0.703881\n",
      "2013-01-03 -0.707611 -0.592696  0.505460  1.593782\n",
      "2013-01-04 -1.039450  2.350577 -0.941984  0.324839\n",
      "2013-01-05  1.942235 -0.504341  1.293290 -0.210043\n",
      "\n",
      "\n",
      "                   A         B         C         D\n",
      "2013-01-04 -1.039450  2.350577 -0.941984  0.324839\n",
      "2013-01-05  1.942235 -0.504341  1.293290 -0.210043\n",
      "2013-01-06  0.339257 -0.088491 -1.270212 -1.102989\n",
      "\n",
      "\n",
      "DatetimeIndex(['2013-01-01', '2013-01-02', '2013-01-03', '2013-01-04',\n",
      "               '2013-01-05', '2013-01-06'],\n",
      "              dtype='datetime64[ns]', freq='D')\n",
      "\n",
      "\n",
      "Index(['A', 'B', 'C', 'D'], dtype='object')\n"
     ]
    }
   ],
   "source": [
    "print(df.head())\n",
    "print(\"\\n\")\n",
    "print(df.tail(3))\n",
    "print(\"\\n\")\n",
    "print(df.index)\n",
    "print(\"\\n\")\n",
    "print(df.columns)"
   ]
  },
  {
   "cell_type": "code",
   "execution_count": 24,
   "metadata": {},
   "outputs": [
    {
     "name": "stdout",
     "output_type": "stream",
     "text": [
      "              A         B         C         D\n",
      "count  6.000000  6.000000  6.000000  6.000000\n",
      "mean  -0.244135  0.295802  0.161783 -0.072434\n",
      "std    1.219831  1.305386  1.024843  1.217548\n",
      "min   -1.406145 -0.861429 -1.270212 -1.744072\n",
      "25%   -0.956490 -0.570607 -0.580123 -0.879753\n",
      "50%   -0.650353 -0.296416  0.546595  0.057398\n",
      "75%    0.106169  1.081271  0.744242  0.609121\n",
      "max    1.942235  2.350577  1.293290  1.593782\n",
      "<class 'pandas.core.frame.DataFrame'>\n"
     ]
    }
   ],
   "source": [
    "k = df.describe()\n",
    "print(k)\n",
    "print(type(k))"
   ]
  },
  {
   "cell_type": "code",
   "execution_count": 29,
   "metadata": {},
   "outputs": [
    {
     "data": {
      "text/html": [
       "<div>\n",
       "<style scoped>\n",
       "    .dataframe tbody tr th:only-of-type {\n",
       "        vertical-align: middle;\n",
       "    }\n",
       "\n",
       "    .dataframe tbody tr th {\n",
       "        vertical-align: top;\n",
       "    }\n",
       "\n",
       "    .dataframe thead th {\n",
       "        text-align: right;\n",
       "    }\n",
       "</style>\n",
       "<table border=\"1\" class=\"dataframe\">\n",
       "  <thead>\n",
       "    <tr style=\"text-align: right;\">\n",
       "      <th></th>\n",
       "      <th>2013-01-01</th>\n",
       "      <th>2013-01-02</th>\n",
       "      <th>2013-01-03</th>\n",
       "      <th>2013-01-04</th>\n",
       "      <th>2013-01-05</th>\n",
       "      <th>2013-01-06</th>\n",
       "    </tr>\n",
       "  </thead>\n",
       "  <tbody>\n",
       "    <tr>\n",
       "      <th>A</th>\n",
       "      <td>-0.593095</td>\n",
       "      <td>-1.406145</td>\n",
       "      <td>-0.707611</td>\n",
       "      <td>-1.039450</td>\n",
       "      <td>1.942235</td>\n",
       "      <td>0.339257</td>\n",
       "    </tr>\n",
       "    <tr>\n",
       "      <th>B</th>\n",
       "      <td>-0.861429</td>\n",
       "      <td>1.471192</td>\n",
       "      <td>-0.592696</td>\n",
       "      <td>2.350577</td>\n",
       "      <td>-0.504341</td>\n",
       "      <td>-0.088491</td>\n",
       "    </tr>\n",
       "    <tr>\n",
       "      <th>C</th>\n",
       "      <td>0.796412</td>\n",
       "      <td>0.587730</td>\n",
       "      <td>0.505460</td>\n",
       "      <td>-0.941984</td>\n",
       "      <td>1.293290</td>\n",
       "      <td>-1.270212</td>\n",
       "    </tr>\n",
       "    <tr>\n",
       "      <th>D</th>\n",
       "      <td>-1.744072</td>\n",
       "      <td>0.703881</td>\n",
       "      <td>1.593782</td>\n",
       "      <td>0.324839</td>\n",
       "      <td>-0.210043</td>\n",
       "      <td>-1.102989</td>\n",
       "    </tr>\n",
       "  </tbody>\n",
       "</table>\n",
       "</div>"
      ],
      "text/plain": [
       "   2013-01-01  2013-01-02  2013-01-03  2013-01-04  2013-01-05  2013-01-06\n",
       "A   -0.593095   -1.406145   -0.707611   -1.039450    1.942235    0.339257\n",
       "B   -0.861429    1.471192   -0.592696    2.350577   -0.504341   -0.088491\n",
       "C    0.796412    0.587730    0.505460   -0.941984    1.293290   -1.270212\n",
       "D   -1.744072    0.703881    1.593782    0.324839   -0.210043   -1.102989"
      ]
     },
     "execution_count": 29,
     "metadata": {},
     "output_type": "execute_result"
    }
   ],
   "source": [
    "df2 = df.T\n",
    "df2"
   ]
  },
  {
   "cell_type": "code",
   "execution_count": 34,
   "metadata": {},
   "outputs": [
    {
     "data": {
      "text/html": [
       "<div>\n",
       "<style scoped>\n",
       "    .dataframe tbody tr th:only-of-type {\n",
       "        vertical-align: middle;\n",
       "    }\n",
       "\n",
       "    .dataframe tbody tr th {\n",
       "        vertical-align: top;\n",
       "    }\n",
       "\n",
       "    .dataframe thead th {\n",
       "        text-align: right;\n",
       "    }\n",
       "</style>\n",
       "<table border=\"1\" class=\"dataframe\">\n",
       "  <thead>\n",
       "    <tr style=\"text-align: right;\">\n",
       "      <th></th>\n",
       "      <th>A</th>\n",
       "      <th>B</th>\n",
       "      <th>C</th>\n",
       "      <th>D</th>\n",
       "    </tr>\n",
       "  </thead>\n",
       "  <tbody>\n",
       "    <tr>\n",
       "      <th>2013-01-06</th>\n",
       "      <td>0.339257</td>\n",
       "      <td>-0.088491</td>\n",
       "      <td>-1.270212</td>\n",
       "      <td>-1.102989</td>\n",
       "    </tr>\n",
       "    <tr>\n",
       "      <th>2013-01-05</th>\n",
       "      <td>1.942235</td>\n",
       "      <td>-0.504341</td>\n",
       "      <td>1.293290</td>\n",
       "      <td>-0.210043</td>\n",
       "    </tr>\n",
       "    <tr>\n",
       "      <th>2013-01-04</th>\n",
       "      <td>-1.039450</td>\n",
       "      <td>2.350577</td>\n",
       "      <td>-0.941984</td>\n",
       "      <td>0.324839</td>\n",
       "    </tr>\n",
       "    <tr>\n",
       "      <th>2013-01-03</th>\n",
       "      <td>-0.707611</td>\n",
       "      <td>-0.592696</td>\n",
       "      <td>0.505460</td>\n",
       "      <td>1.593782</td>\n",
       "    </tr>\n",
       "    <tr>\n",
       "      <th>2013-01-02</th>\n",
       "      <td>-1.406145</td>\n",
       "      <td>1.471192</td>\n",
       "      <td>0.587730</td>\n",
       "      <td>0.703881</td>\n",
       "    </tr>\n",
       "    <tr>\n",
       "      <th>2013-01-01</th>\n",
       "      <td>-0.593095</td>\n",
       "      <td>-0.861429</td>\n",
       "      <td>0.796412</td>\n",
       "      <td>-1.744072</td>\n",
       "    </tr>\n",
       "  </tbody>\n",
       "</table>\n",
       "</div>"
      ],
      "text/plain": [
       "                   A         B         C         D\n",
       "2013-01-06  0.339257 -0.088491 -1.270212 -1.102989\n",
       "2013-01-05  1.942235 -0.504341  1.293290 -0.210043\n",
       "2013-01-04 -1.039450  2.350577 -0.941984  0.324839\n",
       "2013-01-03 -0.707611 -0.592696  0.505460  1.593782\n",
       "2013-01-02 -1.406145  1.471192  0.587730  0.703881\n",
       "2013-01-01 -0.593095 -0.861429  0.796412 -1.744072"
      ]
     },
     "execution_count": 34,
     "metadata": {},
     "output_type": "execute_result"
    }
   ],
   "source": [
    "df.sort_index(axis=0,ascending=False)"
   ]
  },
  {
   "cell_type": "code",
   "execution_count": 35,
   "metadata": {},
   "outputs": [
    {
     "data": {
      "text/plain": [
       "2013-01-01   -0.593095\n",
       "2013-01-02   -1.406145\n",
       "2013-01-03   -0.707611\n",
       "2013-01-04   -1.039450\n",
       "2013-01-05    1.942235\n",
       "2013-01-06    0.339257\n",
       "Freq: D, Name: A, dtype: float64"
      ]
     },
     "execution_count": 35,
     "metadata": {},
     "output_type": "execute_result"
    }
   ],
   "source": [
    "df[\"A\"]"
   ]
  },
  {
   "cell_type": "code",
   "execution_count": 39,
   "metadata": {},
   "outputs": [
    {
     "data": {
      "text/plain": [
       "2013-01-01   -0.593095\n",
       "2013-01-02   -1.406145\n",
       "2013-01-03   -0.707611\n",
       "Freq: D, Name: A, dtype: float64"
      ]
     },
     "execution_count": 39,
     "metadata": {},
     "output_type": "execute_result"
    }
   ],
   "source": [
    "df[\"A\"][0:3]"
   ]
  },
  {
   "cell_type": "code",
   "execution_count": 40,
   "metadata": {},
   "outputs": [
    {
     "data": {
      "text/html": [
       "<div>\n",
       "<style scoped>\n",
       "    .dataframe tbody tr th:only-of-type {\n",
       "        vertical-align: middle;\n",
       "    }\n",
       "\n",
       "    .dataframe tbody tr th {\n",
       "        vertical-align: top;\n",
       "    }\n",
       "\n",
       "    .dataframe thead th {\n",
       "        text-align: right;\n",
       "    }\n",
       "</style>\n",
       "<table border=\"1\" class=\"dataframe\">\n",
       "  <thead>\n",
       "    <tr style=\"text-align: right;\">\n",
       "      <th></th>\n",
       "      <th>A</th>\n",
       "      <th>B</th>\n",
       "    </tr>\n",
       "  </thead>\n",
       "  <tbody>\n",
       "    <tr>\n",
       "      <th>2013-01-01</th>\n",
       "      <td>-0.593095</td>\n",
       "      <td>-0.861429</td>\n",
       "    </tr>\n",
       "    <tr>\n",
       "      <th>2013-01-02</th>\n",
       "      <td>-1.406145</td>\n",
       "      <td>1.471192</td>\n",
       "    </tr>\n",
       "    <tr>\n",
       "      <th>2013-01-03</th>\n",
       "      <td>-0.707611</td>\n",
       "      <td>-0.592696</td>\n",
       "    </tr>\n",
       "    <tr>\n",
       "      <th>2013-01-04</th>\n",
       "      <td>-1.039450</td>\n",
       "      <td>2.350577</td>\n",
       "    </tr>\n",
       "    <tr>\n",
       "      <th>2013-01-05</th>\n",
       "      <td>1.942235</td>\n",
       "      <td>-0.504341</td>\n",
       "    </tr>\n",
       "    <tr>\n",
       "      <th>2013-01-06</th>\n",
       "      <td>0.339257</td>\n",
       "      <td>-0.088491</td>\n",
       "    </tr>\n",
       "  </tbody>\n",
       "</table>\n",
       "</div>"
      ],
      "text/plain": [
       "                   A         B\n",
       "2013-01-01 -0.593095 -0.861429\n",
       "2013-01-02 -1.406145  1.471192\n",
       "2013-01-03 -0.707611 -0.592696\n",
       "2013-01-04 -1.039450  2.350577\n",
       "2013-01-05  1.942235 -0.504341\n",
       "2013-01-06  0.339257 -0.088491"
      ]
     },
     "execution_count": 40,
     "metadata": {},
     "output_type": "execute_result"
    }
   ],
   "source": [
    "df.loc[dates[0]]\n",
    "df.loc[:,[\"A\",\"B\"]]"
   ]
  },
  {
   "cell_type": "code",
   "execution_count": 42,
   "metadata": {},
   "outputs": [
    {
     "name": "stdout",
     "output_type": "stream",
     "text": [
      "A   -1.039450\n",
      "B    2.350577\n",
      "C   -0.941984\n",
      "D    0.324839\n",
      "Name: 2013-01-04 00:00:00, dtype: float64\n",
      "\n",
      "\n",
      "                   A         B\n",
      "2013-01-04 -1.039450  2.350577\n",
      "2013-01-05  1.942235 -0.504341\n",
      "\n",
      "\n",
      "                   A         B        C         D\n",
      "2013-01-02 -1.406145  1.471192  0.58773  0.703881\n",
      "2013-01-03 -0.707611 -0.592696  0.50546  1.593782\n"
     ]
    }
   ],
   "source": [
    "print(df.iloc[3])\n",
    "print(\"\\n\")\n",
    "print(df.iloc[3:5,0:2])\n",
    "print(\"\\n\")\n",
    "print(df.iloc[1:3,:])"
   ]
  },
  {
   "cell_type": "code",
   "execution_count": 44,
   "metadata": {},
   "outputs": [
    {
     "name": "stdout",
     "output_type": "stream",
     "text": [
      "                   A         B         C         D\n",
      "2013-01-01       NaN       NaN  0.796412       NaN\n",
      "2013-01-02       NaN  1.471192  0.587730  0.703881\n",
      "2013-01-03       NaN       NaN  0.505460  1.593782\n",
      "2013-01-04       NaN  2.350577       NaN  0.324839\n",
      "2013-01-05  1.942235       NaN  1.293290       NaN\n",
      "2013-01-06  0.339257       NaN       NaN       NaN\n",
      "\n",
      "\n",
      "                   A         B         C         D\n",
      "2013-01-05  1.942235 -0.504341  1.293290 -0.210043\n",
      "2013-01-06  0.339257 -0.088491 -1.270212 -1.102989\n"
     ]
    }
   ],
   "source": [
    "print(df[df>0])\n",
    "print(\"\\n\")\n",
    "print(df[df[\"A\"]>0])"
   ]
  },
  {
   "cell_type": "code",
   "execution_count": 45,
   "metadata": {},
   "outputs": [
    {
     "data": {
      "text/html": [
       "<div>\n",
       "<style scoped>\n",
       "    .dataframe tbody tr th:only-of-type {\n",
       "        vertical-align: middle;\n",
       "    }\n",
       "\n",
       "    .dataframe tbody tr th {\n",
       "        vertical-align: top;\n",
       "    }\n",
       "\n",
       "    .dataframe thead th {\n",
       "        text-align: right;\n",
       "    }\n",
       "</style>\n",
       "<table border=\"1\" class=\"dataframe\">\n",
       "  <thead>\n",
       "    <tr style=\"text-align: right;\">\n",
       "      <th></th>\n",
       "      <th>A</th>\n",
       "      <th>B</th>\n",
       "      <th>C</th>\n",
       "      <th>D</th>\n",
       "      <th>E</th>\n",
       "    </tr>\n",
       "  </thead>\n",
       "  <tbody>\n",
       "    <tr>\n",
       "      <th>2013-01-03</th>\n",
       "      <td>-0.707611</td>\n",
       "      <td>-0.592696</td>\n",
       "      <td>0.50546</td>\n",
       "      <td>1.593782</td>\n",
       "      <td>two</td>\n",
       "    </tr>\n",
       "    <tr>\n",
       "      <th>2013-01-05</th>\n",
       "      <td>1.942235</td>\n",
       "      <td>-0.504341</td>\n",
       "      <td>1.29329</td>\n",
       "      <td>-0.210043</td>\n",
       "      <td>four</td>\n",
       "    </tr>\n",
       "  </tbody>\n",
       "</table>\n",
       "</div>"
      ],
      "text/plain": [
       "                   A         B        C         D     E\n",
       "2013-01-03 -0.707611 -0.592696  0.50546  1.593782   two\n",
       "2013-01-05  1.942235 -0.504341  1.29329 -0.210043  four"
      ]
     },
     "execution_count": 45,
     "metadata": {},
     "output_type": "execute_result"
    }
   ],
   "source": [
    "df2 = df.copy()\n",
    "df2[\"E\"] = [\"one\", \"one\", \"two\", \"three\", \"four\", \"three\"]\n",
    "df2[df2[\"E\"].isin([\"two\", \"four\"])]"
   ]
  },
  {
   "cell_type": "code",
   "execution_count": 46,
   "metadata": {},
   "outputs": [
    {
     "data": {
      "text/html": [
       "<div>\n",
       "<style scoped>\n",
       "    .dataframe tbody tr th:only-of-type {\n",
       "        vertical-align: middle;\n",
       "    }\n",
       "\n",
       "    .dataframe tbody tr th {\n",
       "        vertical-align: top;\n",
       "    }\n",
       "\n",
       "    .dataframe thead th {\n",
       "        text-align: right;\n",
       "    }\n",
       "</style>\n",
       "<table border=\"1\" class=\"dataframe\">\n",
       "  <thead>\n",
       "    <tr style=\"text-align: right;\">\n",
       "      <th></th>\n",
       "      <th>A</th>\n",
       "      <th>B</th>\n",
       "      <th>C</th>\n",
       "      <th>D</th>\n",
       "    </tr>\n",
       "  </thead>\n",
       "  <tbody>\n",
       "    <tr>\n",
       "      <th>2013-01-01</th>\n",
       "      <td>-0.593095</td>\n",
       "      <td>-0.861429</td>\n",
       "      <td>-0.796412</td>\n",
       "      <td>-1.744072</td>\n",
       "    </tr>\n",
       "    <tr>\n",
       "      <th>2013-01-02</th>\n",
       "      <td>-1.406145</td>\n",
       "      <td>-1.471192</td>\n",
       "      <td>-0.587730</td>\n",
       "      <td>-0.703881</td>\n",
       "    </tr>\n",
       "    <tr>\n",
       "      <th>2013-01-03</th>\n",
       "      <td>-0.707611</td>\n",
       "      <td>-0.592696</td>\n",
       "      <td>-0.505460</td>\n",
       "      <td>-1.593782</td>\n",
       "    </tr>\n",
       "    <tr>\n",
       "      <th>2013-01-04</th>\n",
       "      <td>-1.039450</td>\n",
       "      <td>-2.350577</td>\n",
       "      <td>-0.941984</td>\n",
       "      <td>-0.324839</td>\n",
       "    </tr>\n",
       "    <tr>\n",
       "      <th>2013-01-05</th>\n",
       "      <td>-1.942235</td>\n",
       "      <td>-0.504341</td>\n",
       "      <td>-1.293290</td>\n",
       "      <td>-0.210043</td>\n",
       "    </tr>\n",
       "    <tr>\n",
       "      <th>2013-01-06</th>\n",
       "      <td>-0.339257</td>\n",
       "      <td>-0.088491</td>\n",
       "      <td>-1.270212</td>\n",
       "      <td>-1.102989</td>\n",
       "    </tr>\n",
       "  </tbody>\n",
       "</table>\n",
       "</div>"
      ],
      "text/plain": [
       "                   A         B         C         D\n",
       "2013-01-01 -0.593095 -0.861429 -0.796412 -1.744072\n",
       "2013-01-02 -1.406145 -1.471192 -0.587730 -0.703881\n",
       "2013-01-03 -0.707611 -0.592696 -0.505460 -1.593782\n",
       "2013-01-04 -1.039450 -2.350577 -0.941984 -0.324839\n",
       "2013-01-05 -1.942235 -0.504341 -1.293290 -0.210043\n",
       "2013-01-06 -0.339257 -0.088491 -1.270212 -1.102989"
      ]
     },
     "execution_count": 46,
     "metadata": {},
     "output_type": "execute_result"
    }
   ],
   "source": [
    "df2 = df.copy()\n",
    "df2[df2 > 0] = -df2\n",
    "df2"
   ]
  },
  {
   "cell_type": "code",
   "execution_count": 47,
   "metadata": {},
   "outputs": [
    {
     "data": {
      "text/html": [
       "<div>\n",
       "<style scoped>\n",
       "    .dataframe tbody tr th:only-of-type {\n",
       "        vertical-align: middle;\n",
       "    }\n",
       "\n",
       "    .dataframe tbody tr th {\n",
       "        vertical-align: top;\n",
       "    }\n",
       "\n",
       "    .dataframe thead th {\n",
       "        text-align: right;\n",
       "    }\n",
       "</style>\n",
       "<table border=\"1\" class=\"dataframe\">\n",
       "  <thead>\n",
       "    <tr style=\"text-align: right;\">\n",
       "      <th></th>\n",
       "      <th>A</th>\n",
       "      <th>B</th>\n",
       "      <th>C</th>\n",
       "      <th>D</th>\n",
       "      <th>E</th>\n",
       "    </tr>\n",
       "  </thead>\n",
       "  <tbody>\n",
       "    <tr>\n",
       "      <th>2013-01-01</th>\n",
       "      <td>-0.593095</td>\n",
       "      <td>-0.861429</td>\n",
       "      <td>0.796412</td>\n",
       "      <td>-1.744072</td>\n",
       "      <td>1.0</td>\n",
       "    </tr>\n",
       "    <tr>\n",
       "      <th>2013-01-02</th>\n",
       "      <td>-1.406145</td>\n",
       "      <td>1.471192</td>\n",
       "      <td>0.587730</td>\n",
       "      <td>0.703881</td>\n",
       "      <td>1.0</td>\n",
       "    </tr>\n",
       "    <tr>\n",
       "      <th>2013-01-03</th>\n",
       "      <td>-0.707611</td>\n",
       "      <td>-0.592696</td>\n",
       "      <td>0.505460</td>\n",
       "      <td>1.593782</td>\n",
       "      <td>NaN</td>\n",
       "    </tr>\n",
       "    <tr>\n",
       "      <th>2013-01-04</th>\n",
       "      <td>-1.039450</td>\n",
       "      <td>2.350577</td>\n",
       "      <td>-0.941984</td>\n",
       "      <td>0.324839</td>\n",
       "      <td>NaN</td>\n",
       "    </tr>\n",
       "  </tbody>\n",
       "</table>\n",
       "</div>"
      ],
      "text/plain": [
       "                   A         B         C         D    E\n",
       "2013-01-01 -0.593095 -0.861429  0.796412 -1.744072  1.0\n",
       "2013-01-02 -1.406145  1.471192  0.587730  0.703881  1.0\n",
       "2013-01-03 -0.707611 -0.592696  0.505460  1.593782  NaN\n",
       "2013-01-04 -1.039450  2.350577 -0.941984  0.324839  NaN"
      ]
     },
     "execution_count": 47,
     "metadata": {},
     "output_type": "execute_result"
    }
   ],
   "source": [
    "df1 = df.reindex(index=dates[0:4], columns=list(df.columns) + [\"E\"])\n",
    "df1.loc[dates[0] : dates[1], \"E\"] = 1\n",
    "df1"
   ]
  },
  {
   "cell_type": "code",
   "execution_count": 49,
   "metadata": {},
   "outputs": [
    {
     "data": {
      "text/html": [
       "<div>\n",
       "<style scoped>\n",
       "    .dataframe tbody tr th:only-of-type {\n",
       "        vertical-align: middle;\n",
       "    }\n",
       "\n",
       "    .dataframe tbody tr th {\n",
       "        vertical-align: top;\n",
       "    }\n",
       "\n",
       "    .dataframe thead th {\n",
       "        text-align: right;\n",
       "    }\n",
       "</style>\n",
       "<table border=\"1\" class=\"dataframe\">\n",
       "  <thead>\n",
       "    <tr style=\"text-align: right;\">\n",
       "      <th></th>\n",
       "      <th>A</th>\n",
       "      <th>B</th>\n",
       "      <th>C</th>\n",
       "      <th>D</th>\n",
       "      <th>E</th>\n",
       "    </tr>\n",
       "  </thead>\n",
       "  <tbody>\n",
       "    <tr>\n",
       "      <th>2013-01-01</th>\n",
       "      <td>-0.593095</td>\n",
       "      <td>-0.861429</td>\n",
       "      <td>0.796412</td>\n",
       "      <td>-1.744072</td>\n",
       "      <td>1.0</td>\n",
       "    </tr>\n",
       "    <tr>\n",
       "      <th>2013-01-02</th>\n",
       "      <td>-1.406145</td>\n",
       "      <td>1.471192</td>\n",
       "      <td>0.587730</td>\n",
       "      <td>0.703881</td>\n",
       "      <td>1.0</td>\n",
       "    </tr>\n",
       "  </tbody>\n",
       "</table>\n",
       "</div>"
      ],
      "text/plain": [
       "                   A         B         C         D    E\n",
       "2013-01-01 -0.593095 -0.861429  0.796412 -1.744072  1.0\n",
       "2013-01-02 -1.406145  1.471192  0.587730  0.703881  1.0"
      ]
     },
     "execution_count": 49,
     "metadata": {},
     "output_type": "execute_result"
    }
   ],
   "source": [
    "df1.dropna()"
   ]
  },
  {
   "cell_type": "code",
   "execution_count": 50,
   "metadata": {},
   "outputs": [
    {
     "data": {
      "text/html": [
       "<div>\n",
       "<style scoped>\n",
       "    .dataframe tbody tr th:only-of-type {\n",
       "        vertical-align: middle;\n",
       "    }\n",
       "\n",
       "    .dataframe tbody tr th {\n",
       "        vertical-align: top;\n",
       "    }\n",
       "\n",
       "    .dataframe thead th {\n",
       "        text-align: right;\n",
       "    }\n",
       "</style>\n",
       "<table border=\"1\" class=\"dataframe\">\n",
       "  <thead>\n",
       "    <tr style=\"text-align: right;\">\n",
       "      <th></th>\n",
       "      <th>A</th>\n",
       "      <th>B</th>\n",
       "      <th>C</th>\n",
       "      <th>D</th>\n",
       "      <th>E</th>\n",
       "    </tr>\n",
       "  </thead>\n",
       "  <tbody>\n",
       "    <tr>\n",
       "      <th>2013-01-01</th>\n",
       "      <td>-0.593095</td>\n",
       "      <td>-0.861429</td>\n",
       "      <td>0.796412</td>\n",
       "      <td>-1.744072</td>\n",
       "      <td>1.0</td>\n",
       "    </tr>\n",
       "    <tr>\n",
       "      <th>2013-01-02</th>\n",
       "      <td>-1.406145</td>\n",
       "      <td>1.471192</td>\n",
       "      <td>0.587730</td>\n",
       "      <td>0.703881</td>\n",
       "      <td>1.0</td>\n",
       "    </tr>\n",
       "    <tr>\n",
       "      <th>2013-01-03</th>\n",
       "      <td>-0.707611</td>\n",
       "      <td>-0.592696</td>\n",
       "      <td>0.505460</td>\n",
       "      <td>1.593782</td>\n",
       "      <td>1.0</td>\n",
       "    </tr>\n",
       "    <tr>\n",
       "      <th>2013-01-04</th>\n",
       "      <td>-1.039450</td>\n",
       "      <td>2.350577</td>\n",
       "      <td>-0.941984</td>\n",
       "      <td>0.324839</td>\n",
       "      <td>1.0</td>\n",
       "    </tr>\n",
       "  </tbody>\n",
       "</table>\n",
       "</div>"
      ],
      "text/plain": [
       "                   A         B         C         D    E\n",
       "2013-01-01 -0.593095 -0.861429  0.796412 -1.744072  1.0\n",
       "2013-01-02 -1.406145  1.471192  0.587730  0.703881  1.0\n",
       "2013-01-03 -0.707611 -0.592696  0.505460  1.593782  1.0\n",
       "2013-01-04 -1.039450  2.350577 -0.941984  0.324839  1.0"
      ]
     },
     "execution_count": 50,
     "metadata": {},
     "output_type": "execute_result"
    }
   ],
   "source": [
    "df1.interpolate( )"
   ]
  }
 ],
 "metadata": {
  "kernelspec": {
   "display_name": ".venv",
   "language": "python",
   "name": "python3"
  },
  "language_info": {
   "codemirror_mode": {
    "name": "ipython",
    "version": 3
   },
   "file_extension": ".py",
   "mimetype": "text/x-python",
   "name": "python",
   "nbconvert_exporter": "python",
   "pygments_lexer": "ipython3",
   "version": "3.11.9"
  }
 },
 "nbformat": 4,
 "nbformat_minor": 2
}
