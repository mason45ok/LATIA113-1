{
 "cells": [
  {
   "cell_type": "markdown",
   "metadata": {},
   "source": [
    "## 分析臺中市路口的A2(重傷)事故之肇事主因，及路口為何"
   ]
  },
  {
   "cell_type": "code",
   "execution_count": 1,
   "metadata": {},
   "outputs": [
    {
     "name": "stdout",
     "output_type": "stream",
     "text": [
      "             路口名稱  A2總數         主要肇因\n",
      "0    (北區)三民路與崇德路口    36  違反特定標誌(線)禁制\n",
      "1    (北區)崇德路與三民路口    12  違反特定標誌(線)禁制\n",
      "2  (南屯區)五權西路與環中路口    20      未注意車前狀態\n",
      "3   (南屯區)向上路與環中路口    14      未注意車前狀態\n",
      "4   (潭子區)中山路與環中路口    13    未保持行車安全距離\n",
      "5  (西屯區)安和路與臺灣大道口    15     其他不當駕車行為\n",
      "6  (西屯區)文心路與臺灣大道口    30     其他不當駕車行為\n",
      "7  (西屯區)東大路與臺灣大道口    12     其他不當駕車行為\n",
      "8  (西屯區)臺灣大道與惠中路口    22    變換車道或方向不當\n",
      "9  (西屯區)臺灣大道與文心路口    31     其他不當駕車行為\n"
     ]
    }
   ],
   "source": [
    "import pandas as pd\n",
    "\n",
    "# 載入資料檔案\n",
    "file_path = '臺中市112年1至12月各月份十大易肇事路段(口).csv'  \n",
    "data = pd.read_csv(file_path, encoding='utf-8')\n",
    "\n",
    "# 分析 A2 事故發生最多的前十大地點\n",
    "# 按路口名稱分組，計算 A2 總數\n",
    "top_a2_locations = data.groupby('路口名稱')['A2'].sum().sort_values(ascending=False).head(10)\n",
    "\n",
    "# 同時匯總這些地點的主要肇因\n",
    "top_locations_with_causes = data[data['路口名稱'].isin(top_a2_locations.index)]\n",
    "\n",
    "# 統計主要肇因\n",
    "cause_summary = top_locations_with_causes.groupby('路口名稱')['主要肇因'].apply(lambda x: x.value_counts().idxmax())\n",
    "\n",
    "# 整合結果\n",
    "result = pd.DataFrame({\n",
    "    'A2總數': top_a2_locations,\n",
    "    '主要肇因': cause_summary\n",
    "}).reset_index()\n",
    "\n",
    "# 顯示結果\n",
    "print(result)\n",
    "\n",
    "# 儲存結果至 CSV（可選）\n",
    "result.to_csv('A2_事故前十大地點分析.csv', index=False, encoding='utf-8-sig')\n"
   ]
  }
 ],
 "metadata": {
  "kernelspec": {
   "display_name": ".venv",
   "language": "python",
   "name": "python3"
  },
  "language_info": {
   "codemirror_mode": {
    "name": "ipython",
    "version": 3
   },
   "file_extension": ".py",
   "mimetype": "text/x-python",
   "name": "python",
   "nbconvert_exporter": "python",
   "pygments_lexer": "ipython3",
   "version": "3.11.9"
  }
 },
 "nbformat": 4,
 "nbformat_minor": 2
}
