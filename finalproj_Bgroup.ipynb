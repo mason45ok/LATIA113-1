{
 "cells": [
  {
   "cell_type": "code",
   "execution_count": null,
   "metadata": {},
   "outputs": [],
   "source": [
    "# !pip install -r requirements.txt"
   ]
  },
  {
   "cell_type": "code",
   "execution_count": 1,
   "metadata": {
    "id": "yYL4b4NbtFpl"
   },
   "outputs": [],
   "source": [
    "import pandas as pd\n",
    "import numpy as np\n",
    "import scipy.stats as stats\n",
    "import matplotlib.pyplot as plt\n",
    "import seaborn as sns\n",
    "from matplotlib import rcParams\n",
    "from matplotlib import font_manager\n",
    "import plotly.express as px\n",
    "import plotly.graph_objects as go\n",
    "from scipy.stats import f_oneway\n",
    "from sklearn.model_selection import train_test_split\n",
    "from sklearn.linear_model import LinearRegression\n",
    "from sklearn.metrics import mean_squared_error, r2_score\n"
   ]
  },
  {
   "cell_type": "code",
   "execution_count": 2,
   "metadata": {
    "id": "qiei8EZMtIYp"
   },
   "outputs": [],
   "source": [
    "df = pd.read_csv('A_stat_data_112.csv')\n",
    "df2 = df.copy()"
   ]
  },
  {
   "cell_type": "code",
   "execution_count": 3,
   "metadata": {
    "colab": {
     "base_uri": "https://localhost:8080/",
     "height": 206
    },
    "id": "9MIHx6-XvMPz",
    "outputId": "9d8d3dc6-0465-420d-8fed-0012dd69bf9a"
   },
   "outputs": [
    {
     "data": {
      "text/html": [
       "<div>\n",
       "<style scoped>\n",
       "    .dataframe tbody tr th:only-of-type {\n",
       "        vertical-align: middle;\n",
       "    }\n",
       "\n",
       "    .dataframe tbody tr th {\n",
       "        vertical-align: top;\n",
       "    }\n",
       "\n",
       "    .dataframe thead th {\n",
       "        text-align: right;\n",
       "    }\n",
       "</style>\n",
       "<table border=\"1\" class=\"dataframe\">\n",
       "  <thead>\n",
       "    <tr style=\"text-align: right;\">\n",
       "      <th></th>\n",
       "      <th>first_correct_rate</th>\n",
       "      <th>mission_difficulty</th>\n",
       "    </tr>\n",
       "  </thead>\n",
       "  <tbody>\n",
       "    <tr>\n",
       "      <th>10</th>\n",
       "      <td>0.0</td>\n",
       "      <td>易</td>\n",
       "    </tr>\n",
       "    <tr>\n",
       "      <th>11</th>\n",
       "      <td>0.4</td>\n",
       "      <td>中</td>\n",
       "    </tr>\n",
       "    <tr>\n",
       "      <th>40</th>\n",
       "      <td>0.2</td>\n",
       "      <td>難</td>\n",
       "    </tr>\n",
       "    <tr>\n",
       "      <th>64</th>\n",
       "      <td>0.2</td>\n",
       "      <td>難</td>\n",
       "    </tr>\n",
       "    <tr>\n",
       "      <th>65</th>\n",
       "      <td>0.4</td>\n",
       "      <td>難</td>\n",
       "    </tr>\n",
       "  </tbody>\n",
       "</table>\n",
       "</div>"
      ],
      "text/plain": [
       "    first_correct_rate mission_difficulty\n",
       "10                 0.0                  易\n",
       "11                 0.4                  中\n",
       "40                 0.2                  難\n",
       "64                 0.2                  難\n",
       "65                 0.4                  難"
      ]
     },
     "execution_count": 3,
     "metadata": {},
     "output_type": "execute_result"
    }
   ],
   "source": [
    "df_DiffAndPass = df2[['first_correct_rate', 'mission_difficulty']].dropna()\n",
    "df_DiffAndPass.head()"
   ]
  },
  {
   "cell_type": "markdown",
   "metadata": {
    "id": "bDMx6prjzBI_"
   },
   "source": [
    "# 資料預處理"
   ]
  },
  {
   "cell_type": "code",
   "execution_count": 4,
   "metadata": {
    "colab": {
     "base_uri": "https://localhost:8080/"
    },
    "id": "t1GjXcMAzAzs",
    "outputId": "98a0b8e6-84ba-4230-bc64-d0131a3d540b"
   },
   "outputs": [
    {
     "name": "stdout",
     "output_type": "stream",
     "text": [
      "<class 'pandas.core.frame.DataFrame'>\n",
      "RangeIndex: 1909959 entries, 0 to 1909958\n",
      "Data columns (total 22 columns):\n",
      " #   Column                                Dtype  \n",
      "---  ------                                -----  \n",
      " 0   grade                                 int64  \n",
      " 1   mission_name                          object \n",
      " 2   mission_difficulty                    object \n",
      " 3   mission_field                         object \n",
      " 4   mission_type                          object \n",
      " 5   mission_semester_year                 int64  \n",
      " 6   mission_semester                      object \n",
      " 7   mission_datetime_utc8                 object \n",
      " 8   mission_status                        object \n",
      " 9   is_completed                          int64  \n",
      " 10  completed_at_utc8                     object \n",
      " 11  correct_rate                          float64\n",
      " 12  answer_duration_sec                   float64\n",
      " 13  mission_answer_count                  int64  \n",
      " 14  content_indicator_correct_rate        float64\n",
      " 15  comprehensive_indicator_correct_rate  float64\n",
      " 16  explanation_indicator_correct_rate    float64\n",
      " 17  extraction_indicator_correct_rate     float64\n",
      " 18  form_indicator_correct_rate           float64\n",
      " 19  first_correct_rate                    float64\n",
      " 20  user_id                               int64  \n",
      " 21  mission_id                            int64  \n",
      "dtypes: float64(8), int64(6), object(8)\n",
      "memory usage: 320.6+ MB\n"
     ]
    }
   ],
   "source": [
    "df = pd.read_csv('A_stat_data_112.csv')\n",
    "df.info()"
   ]
  },
  {
   "cell_type": "code",
   "execution_count": 5,
   "metadata": {
    "colab": {
     "base_uri": "https://localhost:8080/",
     "height": 335
    },
    "id": "wP7m_BdHzZBK",
    "outputId": "14938974-66fa-4885-ab4c-9f04e88d3bcf"
   },
   "outputs": [
    {
     "data": {
      "text/plain": [
       "count    1.909959e+06\n",
       "mean     5.949924e+00\n",
       "std      1.586873e+00\n",
       "min      4.000000e+00\n",
       "25%      5.000000e+00\n",
       "50%      6.000000e+00\n",
       "75%      7.000000e+00\n",
       "max      9.000000e+00\n",
       "Name: grade, dtype: float64"
      ]
     },
     "execution_count": 5,
     "metadata": {},
     "output_type": "execute_result"
    }
   ],
   "source": [
    "df_g=df[\"grade\"]\n",
    "df[\"grade\"].describe()"
   ]
  },
  {
   "cell_type": "code",
   "execution_count": 6,
   "metadata": {
    "colab": {
     "base_uri": "https://localhost:8080/",
     "height": 209
    },
    "id": "RAQaQXGS37lq",
    "outputId": "81786ec6-0ef5-48e3-949a-46a1fd089434"
   },
   "outputs": [
    {
     "data": {
      "text/plain": [
       "count     1820186\n",
       "unique          3\n",
       "top             中\n",
       "freq      1030200\n",
       "Name: mission_difficulty, dtype: object"
      ]
     },
     "execution_count": 6,
     "metadata": {},
     "output_type": "execute_result"
    }
   ],
   "source": [
    "df_m=df[\"mission_difficulty\"]\n",
    "df[\"mission_difficulty\"].describe()"
   ]
  },
  {
   "cell_type": "code",
   "execution_count": 7,
   "metadata": {
    "colab": {
     "base_uri": "https://localhost:8080/",
     "height": 335
    },
    "id": "VrEZghCo3_C4",
    "outputId": "a6bab3b9-e6d1-4081-f7e0-4b46ad5a2b95"
   },
   "outputs": [
    {
     "data": {
      "text/plain": [
       "count    473392.000000\n",
       "mean          0.451405\n",
       "std           0.316127\n",
       "min           0.000000\n",
       "25%           0.200000\n",
       "50%           0.400000\n",
       "75%           0.600000\n",
       "max           1.000000\n",
       "Name: first_correct_rate, dtype: float64"
      ]
     },
     "execution_count": 7,
     "metadata": {},
     "output_type": "execute_result"
    }
   ],
   "source": [
    "df_f=df[\"first_correct_rate\"]\n",
    "df[\"first_correct_rate\"].describe()"
   ]
  },
  {
   "cell_type": "code",
   "execution_count": 8,
   "metadata": {
    "colab": {
     "base_uri": "https://localhost:8080/",
     "height": 335
    },
    "id": "VZTxEhJ44II-",
    "outputId": "d41e3340-4e96-4ca0-b23b-3880bb4f9f02"
   },
   "outputs": [
    {
     "data": {
      "text/plain": [
       "count    453620.000000\n",
       "mean        147.150187\n",
       "std         328.610611\n",
       "min           1.000000\n",
       "25%          10.000000\n",
       "50%          37.000000\n",
       "75%         176.000000\n",
       "max        3600.000000\n",
       "Name: answer_duration_sec, dtype: float64"
      ]
     },
     "execution_count": 8,
     "metadata": {},
     "output_type": "execute_result"
    }
   ],
   "source": [
    "df_a=df[\"answer_duration_sec\"]\n",
    "df[\"answer_duration_sec\"].describe()"
   ]
  },
  {
   "cell_type": "code",
   "execution_count": 9,
   "metadata": {
    "colab": {
     "base_uri": "https://localhost:8080/"
    },
    "id": "mQeWffZyzlWq",
    "outputId": "767ef7f5-f376-4a32-84fe-f2d56d152b6a"
   },
   "outputs": [
    {
     "name": "stdout",
     "output_type": "stream",
     "text": [
      "grade = 0\n",
      "mission_difficulty = 89773\n",
      "first_correct_rate = 1436567\n",
      "answer_duration_sec = 1456339\n"
     ]
    }
   ],
   "source": [
    "print(\"grade =\",df_g.isnull().sum())\n",
    "print(\"mission_difficulty =\",df_m.isnull().sum())\n",
    "print(\"first_correct_rate =\",df_f.isnull().sum())\n",
    "print(\"answer_duration_sec =\",df_a.isnull().sum())"
   ]
  },
  {
   "cell_type": "markdown",
   "metadata": {
    "id": "EeCAiIxfEns4"
   },
   "source": [
    "# 刪除缺失值"
   ]
  },
  {
   "cell_type": "code",
   "execution_count": 10,
   "metadata": {
    "colab": {
     "base_uri": "https://localhost:8080/",
     "height": 423
    },
    "id": "J_LEFm_dEmrw",
    "outputId": "0b8593ce-7ce8-4506-89cc-f631459b9361"
   },
   "outputs": [
    {
     "data": {
      "text/html": [
       "<div>\n",
       "<style scoped>\n",
       "    .dataframe tbody tr th:only-of-type {\n",
       "        vertical-align: middle;\n",
       "    }\n",
       "\n",
       "    .dataframe tbody tr th {\n",
       "        vertical-align: top;\n",
       "    }\n",
       "\n",
       "    .dataframe thead th {\n",
       "        text-align: right;\n",
       "    }\n",
       "</style>\n",
       "<table border=\"1\" class=\"dataframe\">\n",
       "  <thead>\n",
       "    <tr style=\"text-align: right;\">\n",
       "      <th></th>\n",
       "      <th>grade</th>\n",
       "      <th>mission_difficulty</th>\n",
       "      <th>first_correct_rate</th>\n",
       "      <th>answer_duration_sec</th>\n",
       "    </tr>\n",
       "  </thead>\n",
       "  <tbody>\n",
       "    <tr>\n",
       "      <th>10</th>\n",
       "      <td>5</td>\n",
       "      <td>易</td>\n",
       "      <td>0.0</td>\n",
       "      <td>10.0</td>\n",
       "    </tr>\n",
       "    <tr>\n",
       "      <th>11</th>\n",
       "      <td>5</td>\n",
       "      <td>中</td>\n",
       "      <td>0.4</td>\n",
       "      <td>31.0</td>\n",
       "    </tr>\n",
       "    <tr>\n",
       "      <th>40</th>\n",
       "      <td>5</td>\n",
       "      <td>難</td>\n",
       "      <td>0.2</td>\n",
       "      <td>15.0</td>\n",
       "    </tr>\n",
       "    <tr>\n",
       "      <th>64</th>\n",
       "      <td>7</td>\n",
       "      <td>難</td>\n",
       "      <td>0.2</td>\n",
       "      <td>6.0</td>\n",
       "    </tr>\n",
       "    <tr>\n",
       "      <th>65</th>\n",
       "      <td>7</td>\n",
       "      <td>難</td>\n",
       "      <td>0.4</td>\n",
       "      <td>11.0</td>\n",
       "    </tr>\n",
       "    <tr>\n",
       "      <th>...</th>\n",
       "      <td>...</td>\n",
       "      <td>...</td>\n",
       "      <td>...</td>\n",
       "      <td>...</td>\n",
       "    </tr>\n",
       "    <tr>\n",
       "      <th>1909904</th>\n",
       "      <td>7</td>\n",
       "      <td>難</td>\n",
       "      <td>0.4</td>\n",
       "      <td>7.0</td>\n",
       "    </tr>\n",
       "    <tr>\n",
       "      <th>1909905</th>\n",
       "      <td>7</td>\n",
       "      <td>易</td>\n",
       "      <td>0.2</td>\n",
       "      <td>8.0</td>\n",
       "    </tr>\n",
       "    <tr>\n",
       "      <th>1909909</th>\n",
       "      <td>7</td>\n",
       "      <td>難</td>\n",
       "      <td>0.0</td>\n",
       "      <td>15.0</td>\n",
       "    </tr>\n",
       "    <tr>\n",
       "      <th>1909913</th>\n",
       "      <td>7</td>\n",
       "      <td>易</td>\n",
       "      <td>0.2</td>\n",
       "      <td>6.0</td>\n",
       "    </tr>\n",
       "    <tr>\n",
       "      <th>1909917</th>\n",
       "      <td>7</td>\n",
       "      <td>難</td>\n",
       "      <td>0.2</td>\n",
       "      <td>102.0</td>\n",
       "    </tr>\n",
       "  </tbody>\n",
       "</table>\n",
       "<p>424724 rows × 4 columns</p>\n",
       "</div>"
      ],
      "text/plain": [
       "         grade mission_difficulty  first_correct_rate  answer_duration_sec\n",
       "10           5                  易                 0.0                 10.0\n",
       "11           5                  中                 0.4                 31.0\n",
       "40           5                  難                 0.2                 15.0\n",
       "64           7                  難                 0.2                  6.0\n",
       "65           7                  難                 0.4                 11.0\n",
       "...        ...                ...                 ...                  ...\n",
       "1909904      7                  難                 0.4                  7.0\n",
       "1909905      7                  易                 0.2                  8.0\n",
       "1909909      7                  難                 0.0                 15.0\n",
       "1909913      7                  易                 0.2                  6.0\n",
       "1909917      7                  難                 0.2                102.0\n",
       "\n",
       "[424724 rows x 4 columns]"
      ]
     },
     "execution_count": 10,
     "metadata": {},
     "output_type": "execute_result"
    }
   ],
   "source": [
    "df_combined = pd.DataFrame({\n",
    "    'grade': df['grade'],\n",
    "    'mission_difficulty': df['mission_difficulty'],\n",
    "    'first_correct_rate': df['first_correct_rate'],\n",
    "    'answer_duration_sec': df['answer_duration_sec']\n",
    "})\n",
    "df_combined.dropna( )"
   ]
  },
  {
   "cell_type": "markdown",
   "metadata": {
    "id": "x90LjLM-vc01"
   },
   "source": [
    "# 困難題圖形"
   ]
  },
  {
   "cell_type": "code",
   "execution_count": 11,
   "metadata": {
    "id": "pKPq1hN69RIV"
   },
   "outputs": [],
   "source": [
    "df = pd.read_csv('A_stat_data_112.csv')\n",
    "df2 = df.copy()"
   ]
  },
  {
   "cell_type": "code",
   "execution_count": 12,
   "metadata": {
    "colab": {
     "base_uri": "https://localhost:8080/",
     "height": 206
    },
    "id": "C-6i1sAQ9Udz",
    "outputId": "e6b8edcb-3ef8-4df2-9b8a-5d8e1ff75e31"
   },
   "outputs": [
    {
     "data": {
      "text/html": [
       "<div>\n",
       "<style scoped>\n",
       "    .dataframe tbody tr th:only-of-type {\n",
       "        vertical-align: middle;\n",
       "    }\n",
       "\n",
       "    .dataframe tbody tr th {\n",
       "        vertical-align: top;\n",
       "    }\n",
       "\n",
       "    .dataframe thead th {\n",
       "        text-align: right;\n",
       "    }\n",
       "</style>\n",
       "<table border=\"1\" class=\"dataframe\">\n",
       "  <thead>\n",
       "    <tr style=\"text-align: right;\">\n",
       "      <th></th>\n",
       "      <th>first_correct_rate</th>\n",
       "      <th>mission_difficulty</th>\n",
       "    </tr>\n",
       "  </thead>\n",
       "  <tbody>\n",
       "    <tr>\n",
       "      <th>10</th>\n",
       "      <td>0.0</td>\n",
       "      <td>易</td>\n",
       "    </tr>\n",
       "    <tr>\n",
       "      <th>11</th>\n",
       "      <td>0.4</td>\n",
       "      <td>中</td>\n",
       "    </tr>\n",
       "    <tr>\n",
       "      <th>40</th>\n",
       "      <td>0.2</td>\n",
       "      <td>難</td>\n",
       "    </tr>\n",
       "    <tr>\n",
       "      <th>64</th>\n",
       "      <td>0.2</td>\n",
       "      <td>難</td>\n",
       "    </tr>\n",
       "    <tr>\n",
       "      <th>65</th>\n",
       "      <td>0.4</td>\n",
       "      <td>難</td>\n",
       "    </tr>\n",
       "  </tbody>\n",
       "</table>\n",
       "</div>"
      ],
      "text/plain": [
       "    first_correct_rate mission_difficulty\n",
       "10                 0.0                  易\n",
       "11                 0.4                  中\n",
       "40                 0.2                  難\n",
       "64                 0.2                  難\n",
       "65                 0.4                  難"
      ]
     },
     "execution_count": 12,
     "metadata": {},
     "output_type": "execute_result"
    }
   ],
   "source": [
    "df_DiffAndPass = df2[['first_correct_rate', 'mission_difficulty']].dropna()\n",
    "df_DiffAndPass.head()\n",
    "df_DiffAndPass.to_csv(\"DiffAndPass.csv\", index=False)\n",
    "\n",
    "\n",
    "df_DiffAndPass.head()"
   ]
  },
  {
   "cell_type": "code",
   "execution_count": 13,
   "metadata": {
    "colab": {
     "base_uri": "https://localhost:8080/",
     "height": 206
    },
    "id": "STk5XGhTvXul",
    "outputId": "20284137-ccb3-4531-8dc1-4f68d2c91785"
   },
   "outputs": [
    {
     "data": {
      "text/html": [
       "<div>\n",
       "<style scoped>\n",
       "    .dataframe tbody tr th:only-of-type {\n",
       "        vertical-align: middle;\n",
       "    }\n",
       "\n",
       "    .dataframe tbody tr th {\n",
       "        vertical-align: top;\n",
       "    }\n",
       "\n",
       "    .dataframe thead th {\n",
       "        text-align: right;\n",
       "    }\n",
       "</style>\n",
       "<table border=\"1\" class=\"dataframe\">\n",
       "  <thead>\n",
       "    <tr style=\"text-align: right;\">\n",
       "      <th></th>\n",
       "      <th>first_correct_rate</th>\n",
       "      <th>mission_difficulty</th>\n",
       "    </tr>\n",
       "  </thead>\n",
       "  <tbody>\n",
       "    <tr>\n",
       "      <th>10</th>\n",
       "      <td>0.0</td>\n",
       "      <td>Easy</td>\n",
       "    </tr>\n",
       "    <tr>\n",
       "      <th>11</th>\n",
       "      <td>0.4</td>\n",
       "      <td>Medium</td>\n",
       "    </tr>\n",
       "    <tr>\n",
       "      <th>40</th>\n",
       "      <td>0.2</td>\n",
       "      <td>Hard</td>\n",
       "    </tr>\n",
       "    <tr>\n",
       "      <th>64</th>\n",
       "      <td>0.2</td>\n",
       "      <td>Hard</td>\n",
       "    </tr>\n",
       "    <tr>\n",
       "      <th>65</th>\n",
       "      <td>0.4</td>\n",
       "      <td>Hard</td>\n",
       "    </tr>\n",
       "  </tbody>\n",
       "</table>\n",
       "</div>"
      ],
      "text/plain": [
       "    first_correct_rate mission_difficulty\n",
       "10                 0.0               Easy\n",
       "11                 0.4             Medium\n",
       "40                 0.2               Hard\n",
       "64                 0.2               Hard\n",
       "65                 0.4               Hard"
      ]
     },
     "execution_count": 13,
     "metadata": {},
     "output_type": "execute_result"
    }
   ],
   "source": [
    "# 定義一個函數來轉換難度等級\n",
    "def translate_difficulty(difficulty):\n",
    "    if difficulty == \"易\":\n",
    "        return \"Easy\"\n",
    "    elif difficulty == \"中\":\n",
    "        return \"Medium\"\n",
    "    elif difficulty == \"難\":\n",
    "        return \"Hard\"\n",
    "    else:\n",
    "        return difficulty  # 如果遇到未知的值，保持原樣\n",
    "\n",
    "# 使用 apply 函數應用到 mission_difficulty 欄位\n",
    "df_DiffAndPass[\"mission_difficulty\"] = df_DiffAndPass[\"mission_difficulty\"].apply(translate_difficulty)\n",
    "\n",
    "# 查看結果\n",
    "df_DiffAndPass.head()"
   ]
  },
  {
   "cell_type": "code",
   "execution_count": 14,
   "metadata": {
    "colab": {
     "base_uri": "https://localhost:8080/",
     "height": 542
    },
    "id": "gidw9KZWvapa",
    "outputId": "82a53b67-eaf1-4861-d63c-2cf58f7bdd10"
   },
   "outputs": [
    {
     "data": {
      "application/vnd.plotly.v1+json": {
       "config": {
        "plotlyServerURL": "https://plot.ly"
       },
       "data": [
        {
         "alignmentgroup": "True",
         "hovertemplate": "First Correct Rate=%{x}<br>出現次數=%{y}<extra></extra>",
         "legendgroup": "",
         "marker": {
          "color": "#636efa",
          "pattern": {
           "shape": ""
          }
         },
         "name": "",
         "offsetgroup": "",
         "orientation": "v",
         "showlegend": false,
         "textposition": "auto",
         "type": "bar",
         "x": [
          0,
          0.2,
          0.4,
          0.6,
          0.8,
          1
         ],
         "xaxis": "x",
         "y": [
          10218,
          18771,
          16851,
          10204,
          7194,
          9553
         ],
         "yaxis": "y"
        },
        {
         "line": {
          "color": "red",
          "dash": "dash"
         },
         "mode": "lines",
         "name": "平均線",
         "type": "scatter",
         "x": [
          0.43858718797653556,
          0.43858718797653556
         ],
         "y": [
          0,
          18771
         ]
        }
       ],
       "layout": {
        "barmode": "relative",
        "legend": {
         "tracegroupgap": 0
        },
        "template": {
         "data": {
          "bar": [
           {
            "error_x": {
             "color": "#2a3f5f"
            },
            "error_y": {
             "color": "#2a3f5f"
            },
            "marker": {
             "line": {
              "color": "#E5ECF6",
              "width": 0.5
             },
             "pattern": {
              "fillmode": "overlay",
              "size": 10,
              "solidity": 0.2
             }
            },
            "type": "bar"
           }
          ],
          "barpolar": [
           {
            "marker": {
             "line": {
              "color": "#E5ECF6",
              "width": 0.5
             },
             "pattern": {
              "fillmode": "overlay",
              "size": 10,
              "solidity": 0.2
             }
            },
            "type": "barpolar"
           }
          ],
          "carpet": [
           {
            "aaxis": {
             "endlinecolor": "#2a3f5f",
             "gridcolor": "white",
             "linecolor": "white",
             "minorgridcolor": "white",
             "startlinecolor": "#2a3f5f"
            },
            "baxis": {
             "endlinecolor": "#2a3f5f",
             "gridcolor": "white",
             "linecolor": "white",
             "minorgridcolor": "white",
             "startlinecolor": "#2a3f5f"
            },
            "type": "carpet"
           }
          ],
          "choropleth": [
           {
            "colorbar": {
             "outlinewidth": 0,
             "ticks": ""
            },
            "type": "choropleth"
           }
          ],
          "contour": [
           {
            "colorbar": {
             "outlinewidth": 0,
             "ticks": ""
            },
            "colorscale": [
             [
              0,
              "#0d0887"
             ],
             [
              0.1111111111111111,
              "#46039f"
             ],
             [
              0.2222222222222222,
              "#7201a8"
             ],
             [
              0.3333333333333333,
              "#9c179e"
             ],
             [
              0.4444444444444444,
              "#bd3786"
             ],
             [
              0.5555555555555556,
              "#d8576b"
             ],
             [
              0.6666666666666666,
              "#ed7953"
             ],
             [
              0.7777777777777778,
              "#fb9f3a"
             ],
             [
              0.8888888888888888,
              "#fdca26"
             ],
             [
              1,
              "#f0f921"
             ]
            ],
            "type": "contour"
           }
          ],
          "contourcarpet": [
           {
            "colorbar": {
             "outlinewidth": 0,
             "ticks": ""
            },
            "type": "contourcarpet"
           }
          ],
          "heatmap": [
           {
            "colorbar": {
             "outlinewidth": 0,
             "ticks": ""
            },
            "colorscale": [
             [
              0,
              "#0d0887"
             ],
             [
              0.1111111111111111,
              "#46039f"
             ],
             [
              0.2222222222222222,
              "#7201a8"
             ],
             [
              0.3333333333333333,
              "#9c179e"
             ],
             [
              0.4444444444444444,
              "#bd3786"
             ],
             [
              0.5555555555555556,
              "#d8576b"
             ],
             [
              0.6666666666666666,
              "#ed7953"
             ],
             [
              0.7777777777777778,
              "#fb9f3a"
             ],
             [
              0.8888888888888888,
              "#fdca26"
             ],
             [
              1,
              "#f0f921"
             ]
            ],
            "type": "heatmap"
           }
          ],
          "heatmapgl": [
           {
            "colorbar": {
             "outlinewidth": 0,
             "ticks": ""
            },
            "colorscale": [
             [
              0,
              "#0d0887"
             ],
             [
              0.1111111111111111,
              "#46039f"
             ],
             [
              0.2222222222222222,
              "#7201a8"
             ],
             [
              0.3333333333333333,
              "#9c179e"
             ],
             [
              0.4444444444444444,
              "#bd3786"
             ],
             [
              0.5555555555555556,
              "#d8576b"
             ],
             [
              0.6666666666666666,
              "#ed7953"
             ],
             [
              0.7777777777777778,
              "#fb9f3a"
             ],
             [
              0.8888888888888888,
              "#fdca26"
             ],
             [
              1,
              "#f0f921"
             ]
            ],
            "type": "heatmapgl"
           }
          ],
          "histogram": [
           {
            "marker": {
             "pattern": {
              "fillmode": "overlay",
              "size": 10,
              "solidity": 0.2
             }
            },
            "type": "histogram"
           }
          ],
          "histogram2d": [
           {
            "colorbar": {
             "outlinewidth": 0,
             "ticks": ""
            },
            "colorscale": [
             [
              0,
              "#0d0887"
             ],
             [
              0.1111111111111111,
              "#46039f"
             ],
             [
              0.2222222222222222,
              "#7201a8"
             ],
             [
              0.3333333333333333,
              "#9c179e"
             ],
             [
              0.4444444444444444,
              "#bd3786"
             ],
             [
              0.5555555555555556,
              "#d8576b"
             ],
             [
              0.6666666666666666,
              "#ed7953"
             ],
             [
              0.7777777777777778,
              "#fb9f3a"
             ],
             [
              0.8888888888888888,
              "#fdca26"
             ],
             [
              1,
              "#f0f921"
             ]
            ],
            "type": "histogram2d"
           }
          ],
          "histogram2dcontour": [
           {
            "colorbar": {
             "outlinewidth": 0,
             "ticks": ""
            },
            "colorscale": [
             [
              0,
              "#0d0887"
             ],
             [
              0.1111111111111111,
              "#46039f"
             ],
             [
              0.2222222222222222,
              "#7201a8"
             ],
             [
              0.3333333333333333,
              "#9c179e"
             ],
             [
              0.4444444444444444,
              "#bd3786"
             ],
             [
              0.5555555555555556,
              "#d8576b"
             ],
             [
              0.6666666666666666,
              "#ed7953"
             ],
             [
              0.7777777777777778,
              "#fb9f3a"
             ],
             [
              0.8888888888888888,
              "#fdca26"
             ],
             [
              1,
              "#f0f921"
             ]
            ],
            "type": "histogram2dcontour"
           }
          ],
          "mesh3d": [
           {
            "colorbar": {
             "outlinewidth": 0,
             "ticks": ""
            },
            "type": "mesh3d"
           }
          ],
          "parcoords": [
           {
            "line": {
             "colorbar": {
              "outlinewidth": 0,
              "ticks": ""
             }
            },
            "type": "parcoords"
           }
          ],
          "pie": [
           {
            "automargin": true,
            "type": "pie"
           }
          ],
          "scatter": [
           {
            "fillpattern": {
             "fillmode": "overlay",
             "size": 10,
             "solidity": 0.2
            },
            "type": "scatter"
           }
          ],
          "scatter3d": [
           {
            "line": {
             "colorbar": {
              "outlinewidth": 0,
              "ticks": ""
             }
            },
            "marker": {
             "colorbar": {
              "outlinewidth": 0,
              "ticks": ""
             }
            },
            "type": "scatter3d"
           }
          ],
          "scattercarpet": [
           {
            "marker": {
             "colorbar": {
              "outlinewidth": 0,
              "ticks": ""
             }
            },
            "type": "scattercarpet"
           }
          ],
          "scattergeo": [
           {
            "marker": {
             "colorbar": {
              "outlinewidth": 0,
              "ticks": ""
             }
            },
            "type": "scattergeo"
           }
          ],
          "scattergl": [
           {
            "marker": {
             "colorbar": {
              "outlinewidth": 0,
              "ticks": ""
             }
            },
            "type": "scattergl"
           }
          ],
          "scattermapbox": [
           {
            "marker": {
             "colorbar": {
              "outlinewidth": 0,
              "ticks": ""
             }
            },
            "type": "scattermapbox"
           }
          ],
          "scatterpolar": [
           {
            "marker": {
             "colorbar": {
              "outlinewidth": 0,
              "ticks": ""
             }
            },
            "type": "scatterpolar"
           }
          ],
          "scatterpolargl": [
           {
            "marker": {
             "colorbar": {
              "outlinewidth": 0,
              "ticks": ""
             }
            },
            "type": "scatterpolargl"
           }
          ],
          "scatterternary": [
           {
            "marker": {
             "colorbar": {
              "outlinewidth": 0,
              "ticks": ""
             }
            },
            "type": "scatterternary"
           }
          ],
          "surface": [
           {
            "colorbar": {
             "outlinewidth": 0,
             "ticks": ""
            },
            "colorscale": [
             [
              0,
              "#0d0887"
             ],
             [
              0.1111111111111111,
              "#46039f"
             ],
             [
              0.2222222222222222,
              "#7201a8"
             ],
             [
              0.3333333333333333,
              "#9c179e"
             ],
             [
              0.4444444444444444,
              "#bd3786"
             ],
             [
              0.5555555555555556,
              "#d8576b"
             ],
             [
              0.6666666666666666,
              "#ed7953"
             ],
             [
              0.7777777777777778,
              "#fb9f3a"
             ],
             [
              0.8888888888888888,
              "#fdca26"
             ],
             [
              1,
              "#f0f921"
             ]
            ],
            "type": "surface"
           }
          ],
          "table": [
           {
            "cells": {
             "fill": {
              "color": "#EBF0F8"
             },
             "line": {
              "color": "white"
             }
            },
            "header": {
             "fill": {
              "color": "#C8D4E3"
             },
             "line": {
              "color": "white"
             }
            },
            "type": "table"
           }
          ]
         },
         "layout": {
          "annotationdefaults": {
           "arrowcolor": "#2a3f5f",
           "arrowhead": 0,
           "arrowwidth": 1
          },
          "autotypenumbers": "strict",
          "coloraxis": {
           "colorbar": {
            "outlinewidth": 0,
            "ticks": ""
           }
          },
          "colorscale": {
           "diverging": [
            [
             0,
             "#8e0152"
            ],
            [
             0.1,
             "#c51b7d"
            ],
            [
             0.2,
             "#de77ae"
            ],
            [
             0.3,
             "#f1b6da"
            ],
            [
             0.4,
             "#fde0ef"
            ],
            [
             0.5,
             "#f7f7f7"
            ],
            [
             0.6,
             "#e6f5d0"
            ],
            [
             0.7,
             "#b8e186"
            ],
            [
             0.8,
             "#7fbc41"
            ],
            [
             0.9,
             "#4d9221"
            ],
            [
             1,
             "#276419"
            ]
           ],
           "sequential": [
            [
             0,
             "#0d0887"
            ],
            [
             0.1111111111111111,
             "#46039f"
            ],
            [
             0.2222222222222222,
             "#7201a8"
            ],
            [
             0.3333333333333333,
             "#9c179e"
            ],
            [
             0.4444444444444444,
             "#bd3786"
            ],
            [
             0.5555555555555556,
             "#d8576b"
            ],
            [
             0.6666666666666666,
             "#ed7953"
            ],
            [
             0.7777777777777778,
             "#fb9f3a"
            ],
            [
             0.8888888888888888,
             "#fdca26"
            ],
            [
             1,
             "#f0f921"
            ]
           ],
           "sequentialminus": [
            [
             0,
             "#0d0887"
            ],
            [
             0.1111111111111111,
             "#46039f"
            ],
            [
             0.2222222222222222,
             "#7201a8"
            ],
            [
             0.3333333333333333,
             "#9c179e"
            ],
            [
             0.4444444444444444,
             "#bd3786"
            ],
            [
             0.5555555555555556,
             "#d8576b"
            ],
            [
             0.6666666666666666,
             "#ed7953"
            ],
            [
             0.7777777777777778,
             "#fb9f3a"
            ],
            [
             0.8888888888888888,
             "#fdca26"
            ],
            [
             1,
             "#f0f921"
            ]
           ]
          },
          "colorway": [
           "#636efa",
           "#EF553B",
           "#00cc96",
           "#ab63fa",
           "#FFA15A",
           "#19d3f3",
           "#FF6692",
           "#B6E880",
           "#FF97FF",
           "#FECB52"
          ],
          "font": {
           "color": "#2a3f5f"
          },
          "geo": {
           "bgcolor": "white",
           "lakecolor": "white",
           "landcolor": "#E5ECF6",
           "showlakes": true,
           "showland": true,
           "subunitcolor": "white"
          },
          "hoverlabel": {
           "align": "left"
          },
          "hovermode": "closest",
          "mapbox": {
           "style": "light"
          },
          "paper_bgcolor": "white",
          "plot_bgcolor": "#E5ECF6",
          "polar": {
           "angularaxis": {
            "gridcolor": "white",
            "linecolor": "white",
            "ticks": ""
           },
           "bgcolor": "#E5ECF6",
           "radialaxis": {
            "gridcolor": "white",
            "linecolor": "white",
            "ticks": ""
           }
          },
          "scene": {
           "xaxis": {
            "backgroundcolor": "#E5ECF6",
            "gridcolor": "white",
            "gridwidth": 2,
            "linecolor": "white",
            "showbackground": true,
            "ticks": "",
            "zerolinecolor": "white"
           },
           "yaxis": {
            "backgroundcolor": "#E5ECF6",
            "gridcolor": "white",
            "gridwidth": 2,
            "linecolor": "white",
            "showbackground": true,
            "ticks": "",
            "zerolinecolor": "white"
           },
           "zaxis": {
            "backgroundcolor": "#E5ECF6",
            "gridcolor": "white",
            "gridwidth": 2,
            "linecolor": "white",
            "showbackground": true,
            "ticks": "",
            "zerolinecolor": "white"
           }
          },
          "shapedefaults": {
           "line": {
            "color": "#2a3f5f"
           }
          },
          "ternary": {
           "aaxis": {
            "gridcolor": "white",
            "linecolor": "white",
            "ticks": ""
           },
           "baxis": {
            "gridcolor": "white",
            "linecolor": "white",
            "ticks": ""
           },
           "bgcolor": "#E5ECF6",
           "caxis": {
            "gridcolor": "white",
            "linecolor": "white",
            "ticks": ""
           }
          },
          "title": {
           "x": 0.05
          },
          "xaxis": {
           "automargin": true,
           "gridcolor": "white",
           "linecolor": "white",
           "ticks": "",
           "title": {
            "standoff": 15
           },
           "zerolinecolor": "white",
           "zerolinewidth": 2
          },
          "yaxis": {
           "automargin": true,
           "gridcolor": "white",
           "linecolor": "white",
           "ticks": "",
           "title": {
            "standoff": 15
           },
           "zerolinecolor": "white",
           "zerolinewidth": 2
          }
         }
        },
        "title": {
         "text": "First Correct Rate (Hard)"
        },
        "xaxis": {
         "anchor": "y",
         "domain": [
          0,
          1
         ],
         "title": {
          "text": "First Correct Rate"
         }
        },
        "yaxis": {
         "anchor": "x",
         "domain": [
          0,
          1
         ],
         "title": {
          "text": "出現次數"
         }
        }
       }
      }
     },
     "metadata": {},
     "output_type": "display_data"
    }
   ],
   "source": [
    "df_hard = df_DiffAndPass[df_DiffAndPass[\"mission_difficulty\"].str.contains(\"Hard\", na=False)]\n",
    "df_hard.tail()\n",
    "LensOfHard = len(df_hard)\n",
    "\n",
    "# 計算 first_correct_rate 每個值的出現次數\n",
    "rate_counts = df_hard['first_correct_rate'].value_counts().reset_index()\n",
    "rate_counts.columns = ['first_correct_rate', 'count']\n",
    "\n",
    "# 按 first_correct_rate 數值排序\n",
    "rate_counts = rate_counts.sort_values(by='first_correct_rate')\n",
    "\n",
    "# 計算 first_correct_rate 的平均值\n",
    "mean_rate = df_hard['first_correct_rate'].mean()\n",
    "mean_rate_hard = mean_rate\n",
    "# 繪製長條圖\n",
    "fig = px.bar(rate_counts, x='first_correct_rate', y='count',\n",
    "             title=\"First Correct Rate (Hard)\",\n",
    "             labels={'first_correct_rate': 'First Correct Rate', 'count': '出現次數'})\n",
    "\n",
    "# 加入平均線\n",
    "fig.add_trace(go.Scatter(x=[mean_rate, mean_rate], y=[0, rate_counts['count'].max()],\n",
    "                         mode=\"lines\",\n",
    "                         name=\"平均線\",\n",
    "                         line=dict(color=\"red\", dash=\"dash\")))\n",
    "\n",
    "# 更新圖表的標籤\n",
    "fig.update_layout(yaxis_title=\"出現次數\", xaxis_title=\"First Correct Rate\")\n",
    "fig.show()"
   ]
  },
  {
   "cell_type": "markdown",
   "metadata": {
    "id": "_3vr-6pmvotJ"
   },
   "source": [
    "# 中等題圖形"
   ]
  },
  {
   "cell_type": "code",
   "execution_count": 15,
   "metadata": {
    "id": "Rj4JKm2QvrYL"
   },
   "outputs": [],
   "source": [
    "df_mid = df_DiffAndPass[df_DiffAndPass[\"mission_difficulty\"].str.contains(\"Medium\", na=False)]\n",
    "df_mid.tail()\n",
    "LensOfMid = len(df_mid)"
   ]
  },
  {
   "cell_type": "code",
   "execution_count": 16,
   "metadata": {
    "colab": {
     "base_uri": "https://localhost:8080/",
     "height": 542
    },
    "id": "jAxktSw2vve7",
    "outputId": "0bc0e19a-fcdb-4b4b-f066-cd7d3e589859"
   },
   "outputs": [
    {
     "data": {
      "application/vnd.plotly.v1+json": {
       "config": {
        "plotlyServerURL": "https://plot.ly"
       },
       "data": [
        {
         "alignmentgroup": "True",
         "hovertemplate": "First Correct Rate=%{x}<br>出現次數=%{y}<extra></extra>",
         "legendgroup": "",
         "marker": {
          "color": "#636efa",
          "pattern": {
           "shape": ""
          }
         },
         "name": "",
         "offsetgroup": "",
         "orientation": "v",
         "showlegend": false,
         "textposition": "auto",
         "type": "bar",
         "x": [
          0,
          0.2,
          0.4,
          0.6,
          0.8,
          1
         ],
         "xaxis": "x",
         "y": [
          33641,
          63468,
          56768,
          37312,
          28266,
          34977
         ],
         "yaxis": "y"
        },
        {
         "line": {
          "color": "red",
          "dash": "dash"
         },
         "mode": "lines",
         "name": "平均線",
         "type": "scatter",
         "x": [
          0.4534720475411898,
          0.4534720475411898
         ],
         "y": [
          0,
          63468
         ]
        }
       ],
       "layout": {
        "barmode": "relative",
        "legend": {
         "tracegroupgap": 0
        },
        "template": {
         "data": {
          "bar": [
           {
            "error_x": {
             "color": "#2a3f5f"
            },
            "error_y": {
             "color": "#2a3f5f"
            },
            "marker": {
             "line": {
              "color": "#E5ECF6",
              "width": 0.5
             },
             "pattern": {
              "fillmode": "overlay",
              "size": 10,
              "solidity": 0.2
             }
            },
            "type": "bar"
           }
          ],
          "barpolar": [
           {
            "marker": {
             "line": {
              "color": "#E5ECF6",
              "width": 0.5
             },
             "pattern": {
              "fillmode": "overlay",
              "size": 10,
              "solidity": 0.2
             }
            },
            "type": "barpolar"
           }
          ],
          "carpet": [
           {
            "aaxis": {
             "endlinecolor": "#2a3f5f",
             "gridcolor": "white",
             "linecolor": "white",
             "minorgridcolor": "white",
             "startlinecolor": "#2a3f5f"
            },
            "baxis": {
             "endlinecolor": "#2a3f5f",
             "gridcolor": "white",
             "linecolor": "white",
             "minorgridcolor": "white",
             "startlinecolor": "#2a3f5f"
            },
            "type": "carpet"
           }
          ],
          "choropleth": [
           {
            "colorbar": {
             "outlinewidth": 0,
             "ticks": ""
            },
            "type": "choropleth"
           }
          ],
          "contour": [
           {
            "colorbar": {
             "outlinewidth": 0,
             "ticks": ""
            },
            "colorscale": [
             [
              0,
              "#0d0887"
             ],
             [
              0.1111111111111111,
              "#46039f"
             ],
             [
              0.2222222222222222,
              "#7201a8"
             ],
             [
              0.3333333333333333,
              "#9c179e"
             ],
             [
              0.4444444444444444,
              "#bd3786"
             ],
             [
              0.5555555555555556,
              "#d8576b"
             ],
             [
              0.6666666666666666,
              "#ed7953"
             ],
             [
              0.7777777777777778,
              "#fb9f3a"
             ],
             [
              0.8888888888888888,
              "#fdca26"
             ],
             [
              1,
              "#f0f921"
             ]
            ],
            "type": "contour"
           }
          ],
          "contourcarpet": [
           {
            "colorbar": {
             "outlinewidth": 0,
             "ticks": ""
            },
            "type": "contourcarpet"
           }
          ],
          "heatmap": [
           {
            "colorbar": {
             "outlinewidth": 0,
             "ticks": ""
            },
            "colorscale": [
             [
              0,
              "#0d0887"
             ],
             [
              0.1111111111111111,
              "#46039f"
             ],
             [
              0.2222222222222222,
              "#7201a8"
             ],
             [
              0.3333333333333333,
              "#9c179e"
             ],
             [
              0.4444444444444444,
              "#bd3786"
             ],
             [
              0.5555555555555556,
              "#d8576b"
             ],
             [
              0.6666666666666666,
              "#ed7953"
             ],
             [
              0.7777777777777778,
              "#fb9f3a"
             ],
             [
              0.8888888888888888,
              "#fdca26"
             ],
             [
              1,
              "#f0f921"
             ]
            ],
            "type": "heatmap"
           }
          ],
          "heatmapgl": [
           {
            "colorbar": {
             "outlinewidth": 0,
             "ticks": ""
            },
            "colorscale": [
             [
              0,
              "#0d0887"
             ],
             [
              0.1111111111111111,
              "#46039f"
             ],
             [
              0.2222222222222222,
              "#7201a8"
             ],
             [
              0.3333333333333333,
              "#9c179e"
             ],
             [
              0.4444444444444444,
              "#bd3786"
             ],
             [
              0.5555555555555556,
              "#d8576b"
             ],
             [
              0.6666666666666666,
              "#ed7953"
             ],
             [
              0.7777777777777778,
              "#fb9f3a"
             ],
             [
              0.8888888888888888,
              "#fdca26"
             ],
             [
              1,
              "#f0f921"
             ]
            ],
            "type": "heatmapgl"
           }
          ],
          "histogram": [
           {
            "marker": {
             "pattern": {
              "fillmode": "overlay",
              "size": 10,
              "solidity": 0.2
             }
            },
            "type": "histogram"
           }
          ],
          "histogram2d": [
           {
            "colorbar": {
             "outlinewidth": 0,
             "ticks": ""
            },
            "colorscale": [
             [
              0,
              "#0d0887"
             ],
             [
              0.1111111111111111,
              "#46039f"
             ],
             [
              0.2222222222222222,
              "#7201a8"
             ],
             [
              0.3333333333333333,
              "#9c179e"
             ],
             [
              0.4444444444444444,
              "#bd3786"
             ],
             [
              0.5555555555555556,
              "#d8576b"
             ],
             [
              0.6666666666666666,
              "#ed7953"
             ],
             [
              0.7777777777777778,
              "#fb9f3a"
             ],
             [
              0.8888888888888888,
              "#fdca26"
             ],
             [
              1,
              "#f0f921"
             ]
            ],
            "type": "histogram2d"
           }
          ],
          "histogram2dcontour": [
           {
            "colorbar": {
             "outlinewidth": 0,
             "ticks": ""
            },
            "colorscale": [
             [
              0,
              "#0d0887"
             ],
             [
              0.1111111111111111,
              "#46039f"
             ],
             [
              0.2222222222222222,
              "#7201a8"
             ],
             [
              0.3333333333333333,
              "#9c179e"
             ],
             [
              0.4444444444444444,
              "#bd3786"
             ],
             [
              0.5555555555555556,
              "#d8576b"
             ],
             [
              0.6666666666666666,
              "#ed7953"
             ],
             [
              0.7777777777777778,
              "#fb9f3a"
             ],
             [
              0.8888888888888888,
              "#fdca26"
             ],
             [
              1,
              "#f0f921"
             ]
            ],
            "type": "histogram2dcontour"
           }
          ],
          "mesh3d": [
           {
            "colorbar": {
             "outlinewidth": 0,
             "ticks": ""
            },
            "type": "mesh3d"
           }
          ],
          "parcoords": [
           {
            "line": {
             "colorbar": {
              "outlinewidth": 0,
              "ticks": ""
             }
            },
            "type": "parcoords"
           }
          ],
          "pie": [
           {
            "automargin": true,
            "type": "pie"
           }
          ],
          "scatter": [
           {
            "fillpattern": {
             "fillmode": "overlay",
             "size": 10,
             "solidity": 0.2
            },
            "type": "scatter"
           }
          ],
          "scatter3d": [
           {
            "line": {
             "colorbar": {
              "outlinewidth": 0,
              "ticks": ""
             }
            },
            "marker": {
             "colorbar": {
              "outlinewidth": 0,
              "ticks": ""
             }
            },
            "type": "scatter3d"
           }
          ],
          "scattercarpet": [
           {
            "marker": {
             "colorbar": {
              "outlinewidth": 0,
              "ticks": ""
             }
            },
            "type": "scattercarpet"
           }
          ],
          "scattergeo": [
           {
            "marker": {
             "colorbar": {
              "outlinewidth": 0,
              "ticks": ""
             }
            },
            "type": "scattergeo"
           }
          ],
          "scattergl": [
           {
            "marker": {
             "colorbar": {
              "outlinewidth": 0,
              "ticks": ""
             }
            },
            "type": "scattergl"
           }
          ],
          "scattermapbox": [
           {
            "marker": {
             "colorbar": {
              "outlinewidth": 0,
              "ticks": ""
             }
            },
            "type": "scattermapbox"
           }
          ],
          "scatterpolar": [
           {
            "marker": {
             "colorbar": {
              "outlinewidth": 0,
              "ticks": ""
             }
            },
            "type": "scatterpolar"
           }
          ],
          "scatterpolargl": [
           {
            "marker": {
             "colorbar": {
              "outlinewidth": 0,
              "ticks": ""
             }
            },
            "type": "scatterpolargl"
           }
          ],
          "scatterternary": [
           {
            "marker": {
             "colorbar": {
              "outlinewidth": 0,
              "ticks": ""
             }
            },
            "type": "scatterternary"
           }
          ],
          "surface": [
           {
            "colorbar": {
             "outlinewidth": 0,
             "ticks": ""
            },
            "colorscale": [
             [
              0,
              "#0d0887"
             ],
             [
              0.1111111111111111,
              "#46039f"
             ],
             [
              0.2222222222222222,
              "#7201a8"
             ],
             [
              0.3333333333333333,
              "#9c179e"
             ],
             [
              0.4444444444444444,
              "#bd3786"
             ],
             [
              0.5555555555555556,
              "#d8576b"
             ],
             [
              0.6666666666666666,
              "#ed7953"
             ],
             [
              0.7777777777777778,
              "#fb9f3a"
             ],
             [
              0.8888888888888888,
              "#fdca26"
             ],
             [
              1,
              "#f0f921"
             ]
            ],
            "type": "surface"
           }
          ],
          "table": [
           {
            "cells": {
             "fill": {
              "color": "#EBF0F8"
             },
             "line": {
              "color": "white"
             }
            },
            "header": {
             "fill": {
              "color": "#C8D4E3"
             },
             "line": {
              "color": "white"
             }
            },
            "type": "table"
           }
          ]
         },
         "layout": {
          "annotationdefaults": {
           "arrowcolor": "#2a3f5f",
           "arrowhead": 0,
           "arrowwidth": 1
          },
          "autotypenumbers": "strict",
          "coloraxis": {
           "colorbar": {
            "outlinewidth": 0,
            "ticks": ""
           }
          },
          "colorscale": {
           "diverging": [
            [
             0,
             "#8e0152"
            ],
            [
             0.1,
             "#c51b7d"
            ],
            [
             0.2,
             "#de77ae"
            ],
            [
             0.3,
             "#f1b6da"
            ],
            [
             0.4,
             "#fde0ef"
            ],
            [
             0.5,
             "#f7f7f7"
            ],
            [
             0.6,
             "#e6f5d0"
            ],
            [
             0.7,
             "#b8e186"
            ],
            [
             0.8,
             "#7fbc41"
            ],
            [
             0.9,
             "#4d9221"
            ],
            [
             1,
             "#276419"
            ]
           ],
           "sequential": [
            [
             0,
             "#0d0887"
            ],
            [
             0.1111111111111111,
             "#46039f"
            ],
            [
             0.2222222222222222,
             "#7201a8"
            ],
            [
             0.3333333333333333,
             "#9c179e"
            ],
            [
             0.4444444444444444,
             "#bd3786"
            ],
            [
             0.5555555555555556,
             "#d8576b"
            ],
            [
             0.6666666666666666,
             "#ed7953"
            ],
            [
             0.7777777777777778,
             "#fb9f3a"
            ],
            [
             0.8888888888888888,
             "#fdca26"
            ],
            [
             1,
             "#f0f921"
            ]
           ],
           "sequentialminus": [
            [
             0,
             "#0d0887"
            ],
            [
             0.1111111111111111,
             "#46039f"
            ],
            [
             0.2222222222222222,
             "#7201a8"
            ],
            [
             0.3333333333333333,
             "#9c179e"
            ],
            [
             0.4444444444444444,
             "#bd3786"
            ],
            [
             0.5555555555555556,
             "#d8576b"
            ],
            [
             0.6666666666666666,
             "#ed7953"
            ],
            [
             0.7777777777777778,
             "#fb9f3a"
            ],
            [
             0.8888888888888888,
             "#fdca26"
            ],
            [
             1,
             "#f0f921"
            ]
           ]
          },
          "colorway": [
           "#636efa",
           "#EF553B",
           "#00cc96",
           "#ab63fa",
           "#FFA15A",
           "#19d3f3",
           "#FF6692",
           "#B6E880",
           "#FF97FF",
           "#FECB52"
          ],
          "font": {
           "color": "#2a3f5f"
          },
          "geo": {
           "bgcolor": "white",
           "lakecolor": "white",
           "landcolor": "#E5ECF6",
           "showlakes": true,
           "showland": true,
           "subunitcolor": "white"
          },
          "hoverlabel": {
           "align": "left"
          },
          "hovermode": "closest",
          "mapbox": {
           "style": "light"
          },
          "paper_bgcolor": "white",
          "plot_bgcolor": "#E5ECF6",
          "polar": {
           "angularaxis": {
            "gridcolor": "white",
            "linecolor": "white",
            "ticks": ""
           },
           "bgcolor": "#E5ECF6",
           "radialaxis": {
            "gridcolor": "white",
            "linecolor": "white",
            "ticks": ""
           }
          },
          "scene": {
           "xaxis": {
            "backgroundcolor": "#E5ECF6",
            "gridcolor": "white",
            "gridwidth": 2,
            "linecolor": "white",
            "showbackground": true,
            "ticks": "",
            "zerolinecolor": "white"
           },
           "yaxis": {
            "backgroundcolor": "#E5ECF6",
            "gridcolor": "white",
            "gridwidth": 2,
            "linecolor": "white",
            "showbackground": true,
            "ticks": "",
            "zerolinecolor": "white"
           },
           "zaxis": {
            "backgroundcolor": "#E5ECF6",
            "gridcolor": "white",
            "gridwidth": 2,
            "linecolor": "white",
            "showbackground": true,
            "ticks": "",
            "zerolinecolor": "white"
           }
          },
          "shapedefaults": {
           "line": {
            "color": "#2a3f5f"
           }
          },
          "ternary": {
           "aaxis": {
            "gridcolor": "white",
            "linecolor": "white",
            "ticks": ""
           },
           "baxis": {
            "gridcolor": "white",
            "linecolor": "white",
            "ticks": ""
           },
           "bgcolor": "#E5ECF6",
           "caxis": {
            "gridcolor": "white",
            "linecolor": "white",
            "ticks": ""
           }
          },
          "title": {
           "x": 0.05
          },
          "xaxis": {
           "automargin": true,
           "gridcolor": "white",
           "linecolor": "white",
           "ticks": "",
           "title": {
            "standoff": 15
           },
           "zerolinecolor": "white",
           "zerolinewidth": 2
          },
          "yaxis": {
           "automargin": true,
           "gridcolor": "white",
           "linecolor": "white",
           "ticks": "",
           "title": {
            "standoff": 15
           },
           "zerolinecolor": "white",
           "zerolinewidth": 2
          }
         }
        },
        "title": {
         "text": "First Correct Rate (Medium)"
        },
        "xaxis": {
         "anchor": "y",
         "domain": [
          0,
          1
         ],
         "title": {
          "text": "First Correct Rate"
         }
        },
        "yaxis": {
         "anchor": "x",
         "domain": [
          0,
          1
         ],
         "title": {
          "text": "出現次數"
         }
        }
       }
      }
     },
     "metadata": {},
     "output_type": "display_data"
    }
   ],
   "source": [
    "# 計算 first_correct_rate 每個值的出現次數\n",
    "rate_counts = df_mid['first_correct_rate'].value_counts().reset_index()\n",
    "rate_counts.columns = ['first_correct_rate', 'count']\n",
    "\n",
    "# 按 first_correct_rate 數值排序\n",
    "rate_counts = rate_counts.sort_values(by='first_correct_rate')\n",
    "\n",
    "# 計算 first_correct_rate 的平均值\n",
    "mean_rate = df_mid['first_correct_rate'].mean()\n",
    "mean_rate_mid = mean_rate\n",
    "# 繪製長條圖\n",
    "fig = px.bar(rate_counts, x='first_correct_rate', y='count',\n",
    "             title=\"First Correct Rate (Medium)\",\n",
    "             labels={'first_correct_rate': 'First Correct Rate', 'count': '出現次數'})\n",
    "\n",
    "# 加入平均線\n",
    "fig.add_trace(go.Scatter(x=[mean_rate, mean_rate], y=[0, rate_counts['count'].max()],\n",
    "                         mode=\"lines\",\n",
    "                         name=\"平均線\",\n",
    "                         line=dict(color=\"red\", dash=\"dash\")))\n",
    "\n",
    "# 更新圖表的標籤\n",
    "fig.update_layout(yaxis_title=\"出現次數\", xaxis_title=\"First Correct Rate\")\n",
    "fig.show()"
   ]
  },
  {
   "cell_type": "markdown",
   "metadata": {
    "id": "NjERG6fhvyVJ"
   },
   "source": [
    "# 簡易題圖形"
   ]
  },
  {
   "cell_type": "code",
   "execution_count": 17,
   "metadata": {
    "id": "Veq4hjsTv06p"
   },
   "outputs": [],
   "source": [
    "df_easy = df_DiffAndPass[df_DiffAndPass[\"mission_difficulty\"].str.contains(\"Easy\", na=False)]\n",
    "df_easy.tail()\n",
    "LensOfEasy = len(df_easy)"
   ]
  },
  {
   "cell_type": "code",
   "execution_count": 18,
   "metadata": {
    "colab": {
     "base_uri": "https://localhost:8080/",
     "height": 542
    },
    "id": "Rkh3W5-ov4VS",
    "outputId": "64904fdd-5e1f-4e56-a04d-f8b1ef2bc231"
   },
   "outputs": [
    {
     "data": {
      "application/vnd.plotly.v1+json": {
       "config": {
        "plotlyServerURL": "https://plot.ly"
       },
       "data": [
        {
         "alignmentgroup": "True",
         "hovertemplate": "First Correct Rate=%{x}<br>出現次數=%{y}<extra></extra>",
         "legendgroup": "",
         "marker": {
          "color": "#636efa",
          "pattern": {
           "shape": ""
          }
         },
         "name": "",
         "offsetgroup": "",
         "orientation": "v",
         "showlegend": false,
         "textposition": "auto",
         "type": "bar",
         "x": [
          0,
          0.2,
          0.4,
          0.6,
          0.8,
          1
         ],
         "xaxis": "x",
         "y": [
          15513,
          29631,
          27684,
          19460,
          15481,
          19314
         ],
         "yaxis": "y"
        },
        {
         "line": {
          "color": "red",
          "dash": "dash"
         },
         "mode": "lines",
         "name": "平均線",
         "type": "scatter",
         "x": [
          0.47508006578377904,
          0.47508006578377904
         ],
         "y": [
          0,
          29631
         ]
        }
       ],
       "layout": {
        "barmode": "relative",
        "legend": {
         "tracegroupgap": 0
        },
        "template": {
         "data": {
          "bar": [
           {
            "error_x": {
             "color": "#2a3f5f"
            },
            "error_y": {
             "color": "#2a3f5f"
            },
            "marker": {
             "line": {
              "color": "#E5ECF6",
              "width": 0.5
             },
             "pattern": {
              "fillmode": "overlay",
              "size": 10,
              "solidity": 0.2
             }
            },
            "type": "bar"
           }
          ],
          "barpolar": [
           {
            "marker": {
             "line": {
              "color": "#E5ECF6",
              "width": 0.5
             },
             "pattern": {
              "fillmode": "overlay",
              "size": 10,
              "solidity": 0.2
             }
            },
            "type": "barpolar"
           }
          ],
          "carpet": [
           {
            "aaxis": {
             "endlinecolor": "#2a3f5f",
             "gridcolor": "white",
             "linecolor": "white",
             "minorgridcolor": "white",
             "startlinecolor": "#2a3f5f"
            },
            "baxis": {
             "endlinecolor": "#2a3f5f",
             "gridcolor": "white",
             "linecolor": "white",
             "minorgridcolor": "white",
             "startlinecolor": "#2a3f5f"
            },
            "type": "carpet"
           }
          ],
          "choropleth": [
           {
            "colorbar": {
             "outlinewidth": 0,
             "ticks": ""
            },
            "type": "choropleth"
           }
          ],
          "contour": [
           {
            "colorbar": {
             "outlinewidth": 0,
             "ticks": ""
            },
            "colorscale": [
             [
              0,
              "#0d0887"
             ],
             [
              0.1111111111111111,
              "#46039f"
             ],
             [
              0.2222222222222222,
              "#7201a8"
             ],
             [
              0.3333333333333333,
              "#9c179e"
             ],
             [
              0.4444444444444444,
              "#bd3786"
             ],
             [
              0.5555555555555556,
              "#d8576b"
             ],
             [
              0.6666666666666666,
              "#ed7953"
             ],
             [
              0.7777777777777778,
              "#fb9f3a"
             ],
             [
              0.8888888888888888,
              "#fdca26"
             ],
             [
              1,
              "#f0f921"
             ]
            ],
            "type": "contour"
           }
          ],
          "contourcarpet": [
           {
            "colorbar": {
             "outlinewidth": 0,
             "ticks": ""
            },
            "type": "contourcarpet"
           }
          ],
          "heatmap": [
           {
            "colorbar": {
             "outlinewidth": 0,
             "ticks": ""
            },
            "colorscale": [
             [
              0,
              "#0d0887"
             ],
             [
              0.1111111111111111,
              "#46039f"
             ],
             [
              0.2222222222222222,
              "#7201a8"
             ],
             [
              0.3333333333333333,
              "#9c179e"
             ],
             [
              0.4444444444444444,
              "#bd3786"
             ],
             [
              0.5555555555555556,
              "#d8576b"
             ],
             [
              0.6666666666666666,
              "#ed7953"
             ],
             [
              0.7777777777777778,
              "#fb9f3a"
             ],
             [
              0.8888888888888888,
              "#fdca26"
             ],
             [
              1,
              "#f0f921"
             ]
            ],
            "type": "heatmap"
           }
          ],
          "heatmapgl": [
           {
            "colorbar": {
             "outlinewidth": 0,
             "ticks": ""
            },
            "colorscale": [
             [
              0,
              "#0d0887"
             ],
             [
              0.1111111111111111,
              "#46039f"
             ],
             [
              0.2222222222222222,
              "#7201a8"
             ],
             [
              0.3333333333333333,
              "#9c179e"
             ],
             [
              0.4444444444444444,
              "#bd3786"
             ],
             [
              0.5555555555555556,
              "#d8576b"
             ],
             [
              0.6666666666666666,
              "#ed7953"
             ],
             [
              0.7777777777777778,
              "#fb9f3a"
             ],
             [
              0.8888888888888888,
              "#fdca26"
             ],
             [
              1,
              "#f0f921"
             ]
            ],
            "type": "heatmapgl"
           }
          ],
          "histogram": [
           {
            "marker": {
             "pattern": {
              "fillmode": "overlay",
              "size": 10,
              "solidity": 0.2
             }
            },
            "type": "histogram"
           }
          ],
          "histogram2d": [
           {
            "colorbar": {
             "outlinewidth": 0,
             "ticks": ""
            },
            "colorscale": [
             [
              0,
              "#0d0887"
             ],
             [
              0.1111111111111111,
              "#46039f"
             ],
             [
              0.2222222222222222,
              "#7201a8"
             ],
             [
              0.3333333333333333,
              "#9c179e"
             ],
             [
              0.4444444444444444,
              "#bd3786"
             ],
             [
              0.5555555555555556,
              "#d8576b"
             ],
             [
              0.6666666666666666,
              "#ed7953"
             ],
             [
              0.7777777777777778,
              "#fb9f3a"
             ],
             [
              0.8888888888888888,
              "#fdca26"
             ],
             [
              1,
              "#f0f921"
             ]
            ],
            "type": "histogram2d"
           }
          ],
          "histogram2dcontour": [
           {
            "colorbar": {
             "outlinewidth": 0,
             "ticks": ""
            },
            "colorscale": [
             [
              0,
              "#0d0887"
             ],
             [
              0.1111111111111111,
              "#46039f"
             ],
             [
              0.2222222222222222,
              "#7201a8"
             ],
             [
              0.3333333333333333,
              "#9c179e"
             ],
             [
              0.4444444444444444,
              "#bd3786"
             ],
             [
              0.5555555555555556,
              "#d8576b"
             ],
             [
              0.6666666666666666,
              "#ed7953"
             ],
             [
              0.7777777777777778,
              "#fb9f3a"
             ],
             [
              0.8888888888888888,
              "#fdca26"
             ],
             [
              1,
              "#f0f921"
             ]
            ],
            "type": "histogram2dcontour"
           }
          ],
          "mesh3d": [
           {
            "colorbar": {
             "outlinewidth": 0,
             "ticks": ""
            },
            "type": "mesh3d"
           }
          ],
          "parcoords": [
           {
            "line": {
             "colorbar": {
              "outlinewidth": 0,
              "ticks": ""
             }
            },
            "type": "parcoords"
           }
          ],
          "pie": [
           {
            "automargin": true,
            "type": "pie"
           }
          ],
          "scatter": [
           {
            "fillpattern": {
             "fillmode": "overlay",
             "size": 10,
             "solidity": 0.2
            },
            "type": "scatter"
           }
          ],
          "scatter3d": [
           {
            "line": {
             "colorbar": {
              "outlinewidth": 0,
              "ticks": ""
             }
            },
            "marker": {
             "colorbar": {
              "outlinewidth": 0,
              "ticks": ""
             }
            },
            "type": "scatter3d"
           }
          ],
          "scattercarpet": [
           {
            "marker": {
             "colorbar": {
              "outlinewidth": 0,
              "ticks": ""
             }
            },
            "type": "scattercarpet"
           }
          ],
          "scattergeo": [
           {
            "marker": {
             "colorbar": {
              "outlinewidth": 0,
              "ticks": ""
             }
            },
            "type": "scattergeo"
           }
          ],
          "scattergl": [
           {
            "marker": {
             "colorbar": {
              "outlinewidth": 0,
              "ticks": ""
             }
            },
            "type": "scattergl"
           }
          ],
          "scattermapbox": [
           {
            "marker": {
             "colorbar": {
              "outlinewidth": 0,
              "ticks": ""
             }
            },
            "type": "scattermapbox"
           }
          ],
          "scatterpolar": [
           {
            "marker": {
             "colorbar": {
              "outlinewidth": 0,
              "ticks": ""
             }
            },
            "type": "scatterpolar"
           }
          ],
          "scatterpolargl": [
           {
            "marker": {
             "colorbar": {
              "outlinewidth": 0,
              "ticks": ""
             }
            },
            "type": "scatterpolargl"
           }
          ],
          "scatterternary": [
           {
            "marker": {
             "colorbar": {
              "outlinewidth": 0,
              "ticks": ""
             }
            },
            "type": "scatterternary"
           }
          ],
          "surface": [
           {
            "colorbar": {
             "outlinewidth": 0,
             "ticks": ""
            },
            "colorscale": [
             [
              0,
              "#0d0887"
             ],
             [
              0.1111111111111111,
              "#46039f"
             ],
             [
              0.2222222222222222,
              "#7201a8"
             ],
             [
              0.3333333333333333,
              "#9c179e"
             ],
             [
              0.4444444444444444,
              "#bd3786"
             ],
             [
              0.5555555555555556,
              "#d8576b"
             ],
             [
              0.6666666666666666,
              "#ed7953"
             ],
             [
              0.7777777777777778,
              "#fb9f3a"
             ],
             [
              0.8888888888888888,
              "#fdca26"
             ],
             [
              1,
              "#f0f921"
             ]
            ],
            "type": "surface"
           }
          ],
          "table": [
           {
            "cells": {
             "fill": {
              "color": "#EBF0F8"
             },
             "line": {
              "color": "white"
             }
            },
            "header": {
             "fill": {
              "color": "#C8D4E3"
             },
             "line": {
              "color": "white"
             }
            },
            "type": "table"
           }
          ]
         },
         "layout": {
          "annotationdefaults": {
           "arrowcolor": "#2a3f5f",
           "arrowhead": 0,
           "arrowwidth": 1
          },
          "autotypenumbers": "strict",
          "coloraxis": {
           "colorbar": {
            "outlinewidth": 0,
            "ticks": ""
           }
          },
          "colorscale": {
           "diverging": [
            [
             0,
             "#8e0152"
            ],
            [
             0.1,
             "#c51b7d"
            ],
            [
             0.2,
             "#de77ae"
            ],
            [
             0.3,
             "#f1b6da"
            ],
            [
             0.4,
             "#fde0ef"
            ],
            [
             0.5,
             "#f7f7f7"
            ],
            [
             0.6,
             "#e6f5d0"
            ],
            [
             0.7,
             "#b8e186"
            ],
            [
             0.8,
             "#7fbc41"
            ],
            [
             0.9,
             "#4d9221"
            ],
            [
             1,
             "#276419"
            ]
           ],
           "sequential": [
            [
             0,
             "#0d0887"
            ],
            [
             0.1111111111111111,
             "#46039f"
            ],
            [
             0.2222222222222222,
             "#7201a8"
            ],
            [
             0.3333333333333333,
             "#9c179e"
            ],
            [
             0.4444444444444444,
             "#bd3786"
            ],
            [
             0.5555555555555556,
             "#d8576b"
            ],
            [
             0.6666666666666666,
             "#ed7953"
            ],
            [
             0.7777777777777778,
             "#fb9f3a"
            ],
            [
             0.8888888888888888,
             "#fdca26"
            ],
            [
             1,
             "#f0f921"
            ]
           ],
           "sequentialminus": [
            [
             0,
             "#0d0887"
            ],
            [
             0.1111111111111111,
             "#46039f"
            ],
            [
             0.2222222222222222,
             "#7201a8"
            ],
            [
             0.3333333333333333,
             "#9c179e"
            ],
            [
             0.4444444444444444,
             "#bd3786"
            ],
            [
             0.5555555555555556,
             "#d8576b"
            ],
            [
             0.6666666666666666,
             "#ed7953"
            ],
            [
             0.7777777777777778,
             "#fb9f3a"
            ],
            [
             0.8888888888888888,
             "#fdca26"
            ],
            [
             1,
             "#f0f921"
            ]
           ]
          },
          "colorway": [
           "#636efa",
           "#EF553B",
           "#00cc96",
           "#ab63fa",
           "#FFA15A",
           "#19d3f3",
           "#FF6692",
           "#B6E880",
           "#FF97FF",
           "#FECB52"
          ],
          "font": {
           "color": "#2a3f5f"
          },
          "geo": {
           "bgcolor": "white",
           "lakecolor": "white",
           "landcolor": "#E5ECF6",
           "showlakes": true,
           "showland": true,
           "subunitcolor": "white"
          },
          "hoverlabel": {
           "align": "left"
          },
          "hovermode": "closest",
          "mapbox": {
           "style": "light"
          },
          "paper_bgcolor": "white",
          "plot_bgcolor": "#E5ECF6",
          "polar": {
           "angularaxis": {
            "gridcolor": "white",
            "linecolor": "white",
            "ticks": ""
           },
           "bgcolor": "#E5ECF6",
           "radialaxis": {
            "gridcolor": "white",
            "linecolor": "white",
            "ticks": ""
           }
          },
          "scene": {
           "xaxis": {
            "backgroundcolor": "#E5ECF6",
            "gridcolor": "white",
            "gridwidth": 2,
            "linecolor": "white",
            "showbackground": true,
            "ticks": "",
            "zerolinecolor": "white"
           },
           "yaxis": {
            "backgroundcolor": "#E5ECF6",
            "gridcolor": "white",
            "gridwidth": 2,
            "linecolor": "white",
            "showbackground": true,
            "ticks": "",
            "zerolinecolor": "white"
           },
           "zaxis": {
            "backgroundcolor": "#E5ECF6",
            "gridcolor": "white",
            "gridwidth": 2,
            "linecolor": "white",
            "showbackground": true,
            "ticks": "",
            "zerolinecolor": "white"
           }
          },
          "shapedefaults": {
           "line": {
            "color": "#2a3f5f"
           }
          },
          "ternary": {
           "aaxis": {
            "gridcolor": "white",
            "linecolor": "white",
            "ticks": ""
           },
           "baxis": {
            "gridcolor": "white",
            "linecolor": "white",
            "ticks": ""
           },
           "bgcolor": "#E5ECF6",
           "caxis": {
            "gridcolor": "white",
            "linecolor": "white",
            "ticks": ""
           }
          },
          "title": {
           "x": 0.05
          },
          "xaxis": {
           "automargin": true,
           "gridcolor": "white",
           "linecolor": "white",
           "ticks": "",
           "title": {
            "standoff": 15
           },
           "zerolinecolor": "white",
           "zerolinewidth": 2
          },
          "yaxis": {
           "automargin": true,
           "gridcolor": "white",
           "linecolor": "white",
           "ticks": "",
           "title": {
            "standoff": 15
           },
           "zerolinecolor": "white",
           "zerolinewidth": 2
          }
         }
        },
        "title": {
         "text": "First Correct Rate (Easy)"
        },
        "xaxis": {
         "anchor": "y",
         "domain": [
          0,
          1
         ],
         "title": {
          "text": "First Correct Rate"
         }
        },
        "yaxis": {
         "anchor": "x",
         "domain": [
          0,
          1
         ],
         "title": {
          "text": "出現次數"
         }
        }
       }
      }
     },
     "metadata": {},
     "output_type": "display_data"
    }
   ],
   "source": [
    "# 計算 first_correct_rate 每個值的出現次數\n",
    "rate_counts = df_easy['first_correct_rate'].value_counts().reset_index()\n",
    "rate_counts.columns = ['first_correct_rate', 'count']\n",
    "\n",
    "# 按 first_correct_rate 數值排序\n",
    "rate_counts = rate_counts.sort_values(by='first_correct_rate')\n",
    "\n",
    "# 計算 first_correct_rate 的平均值\n",
    "mean_rate = df_easy['first_correct_rate'].mean()\n",
    "mean_rate_ez = mean_rate\n",
    "# 繪製長條圖\n",
    "fig = px.bar(rate_counts, x='first_correct_rate', y='count',\n",
    "             title=\"First Correct Rate (Easy)\",\n",
    "             labels={'first_correct_rate': 'First Correct Rate', 'count': '出現次數'})\n",
    "\n",
    "# 加入平均線\n",
    "fig.add_trace(go.Scatter(x=[mean_rate, mean_rate], y=[0, rate_counts['count'].max()],\n",
    "                         mode=\"lines\",\n",
    "                         name=\"平均線\",\n",
    "                         line=dict(color=\"red\", dash=\"dash\")))\n",
    "\n",
    "# 更新圖表的標籤\n",
    "fig.update_layout(yaxis_title=\"出現次數\", xaxis_title=\"First Correct Rate\")\n",
    "fig.show()"
   ]
  },
  {
   "cell_type": "code",
   "execution_count": 19,
   "metadata": {
    "colab": {
     "base_uri": "https://localhost:8080/"
    },
    "id": "jNT7yak6v88f",
    "outputId": "ae44244a-ee7a-421a-d0cc-8f05443b2758"
   },
   "outputs": [
    {
     "name": "stdout",
     "output_type": "stream",
     "text": [
      "0.47508006578377904\n",
      "0.4534720475411898\n",
      "0.43858718797653556\n"
     ]
    }
   ],
   "source": [
    "print(mean_rate_ez)\n",
    "print(mean_rate_mid)\n",
    "print(mean_rate_hard)\n",
    "#print(LensOfEasy,LensOfMid,LensOfHard)"
   ]
  },
  {
   "cell_type": "markdown",
   "metadata": {
    "id": "OuA4jmgj92ee"
   },
   "source": [
    "# ANOVA分析"
   ]
  },
  {
   "cell_type": "code",
   "execution_count": 20,
   "metadata": {
    "colab": {
     "base_uri": "https://localhost:8080/",
     "height": 589
    },
    "id": "RgQU88DG95um",
    "outputId": "bef05bf3-edfb-4460-98ab-7f7916906bba"
   },
   "outputs": [
    {
     "data": {
      "image/png": "[encoded data removed]",
      "text/plain": [
       "<Figure size 800x600 with 1 Axes>"
      ]
     },
     "metadata": {},
     "output_type": "display_data"
    },
    {
     "name": "stdout",
     "output_type": "stream",
     "text": [
      "ANOVA p-value: 1.2003713636168536e-148\n"
     ]
    }
   ],
   "source": [
    "# 資料\n",
    "data = df_DiffAndPass\n",
    "\n",
    "# 分組資料\n",
    "groups = data.groupby('mission_difficulty')['first_correct_rate'].apply(list)\n",
    "\n",
    "# ANOVA 分析\n",
    "anova_result = stats.f_oneway(*groups)\n",
    "anova_result_pvalue = anova_result.pvalue\n",
    "\n",
    "# 繪製箱線圖\n",
    "plt.figure(figsize=(8, 6))\n",
    "sns.boxplot(x='mission_difficulty', y='first_correct_rate', data=data, hue='mission_difficulty', palette='Set2', legend=False)\n",
    "plt.title('Initial Correct Rate by Difficulty Level', fontsize=16)\n",
    "plt.xlabel('Difficulty Level', fontsize=14)\n",
    "plt.ylabel('First Correct Rate', fontsize=14)\n",
    "plt.show()\n",
    "\n",
    "# 印出 p-value 結果\n",
    "print(f\"ANOVA p-value: {anova_result_pvalue}\")"
   ]
  },
  {
   "cell_type": "markdown",
   "metadata": {},
   "source": [
    "# 中等與簡單題目之ANOVA"
   ]
  },
  {
   "cell_type": "code",
   "execution_count": 21,
   "metadata": {},
   "outputs": [],
   "source": [
    "df_EasyAndMid = df_DiffAndPass[\n",
    "    (df_DiffAndPass[\"mission_difficulty\"] == \"Medium\") |\n",
    "    (df_DiffAndPass[\"mission_difficulty\"] == \"Easy\")\n",
    "]"
   ]
  },
  {
   "cell_type": "code",
   "execution_count": 22,
   "metadata": {},
   "outputs": [
    {
     "data": {
      "image/png": "[encoded data removed]",
      "text/plain": [
       "<Figure size 800x600 with 1 Axes>"
      ]
     },
     "metadata": {},
     "output_type": "display_data"
    },
    {
     "name": "stdout",
     "output_type": "stream",
     "text": [
      "ANOVA p-value: 3.2033224681677758e-86\n"
     ]
    },
    {
     "data": {
      "image/png": "[encoded data removed]",
      "text/plain": [
       "<Figure size 800x600 with 1 Axes>"
      ]
     },
     "metadata": {},
     "output_type": "display_data"
    },
    {
     "name": "stdout",
     "output_type": "stream",
     "text": [
      "ANOVA p-value: 3.2033224681677758e-86\n"
     ]
    }
   ],
   "source": [
    "# 資料\n",
    "data = df_EasyAndMid\n",
    "# 分組資料\n",
    "groups = data.groupby('mission_difficulty')['first_correct_rate'].apply(list)\n",
    "\n",
    "# ANOVA 分析\n",
    "anova_result = stats.f_oneway(*groups)\n",
    "anova_result_pvalue = anova_result.pvalue\n",
    "\n",
    "# 繪製箱線圖\n",
    "plt.figure(figsize=(8, 6))\n",
    "sns.boxplot(x='mission_difficulty', y='first_correct_rate', data=data, hue='mission_difficulty', palette='Set2', legend=False)\n",
    "plt.title('Initial Correct Rate by Difficulty Level', fontsize=16)\n",
    "plt.xlabel('Difficulty Level', fontsize=14)\n",
    "plt.ylabel('First Correct Rate', fontsize=14)\n",
    "plt.show()\n",
    "\n",
    "# 印出 p-value 結果\n",
    "print(f\"ANOVA p-value: {anova_result_pvalue}\")# 資料\n",
    "data = df_EasyAndMid\n",
    "# 分組資料\n",
    "groups = data.groupby('mission_difficulty')['first_correct_rate'].apply(list)\n",
    "\n",
    "# ANOVA 分析\n",
    "anova_result = stats.f_oneway(*groups)\n",
    "anova_result_pvalue = anova_result.pvalue\n",
    "\n",
    "# 繪製箱線圖\n",
    "plt.figure(figsize=(8, 6))\n",
    "sns.boxplot(x='mission_difficulty', y='first_correct_rate', data=data, hue='mission_difficulty', palette='Set2', legend=False)\n",
    "plt.title('Initial Correct Rate by Difficulty Level', fontsize=16)\n",
    "plt.xlabel('Difficulty Level', fontsize=14)\n",
    "plt.ylabel('First Correct Rate', fontsize=14)\n",
    "plt.show()\n",
    "\n",
    "# 印出 p-value 結果\n",
    "print(f\"ANOVA p-value: {anova_result_pvalue}\")"
   ]
  },
  {
   "cell_type": "markdown",
   "metadata": {},
   "source": [
    "# 中等與困難題目之ANOVA"
   ]
  },
  {
   "cell_type": "code",
   "execution_count": 23,
   "metadata": {},
   "outputs": [],
   "source": [
    "df_MidAndHard = df_DiffAndPass[\n",
    "    (df_DiffAndPass[\"mission_difficulty\"] == \"Medium\") |\n",
    "    (df_DiffAndPass[\"mission_difficulty\"] == \"Hard\")\n",
    "]"
   ]
  },
  {
   "cell_type": "code",
   "execution_count": 24,
   "metadata": {},
   "outputs": [
    {
     "data": {
      "image/png": "[encoded data removed]",
      "text/plain": [
       "<Figure size 800x600 with 1 Axes>"
      ]
     },
     "metadata": {},
     "output_type": "display_data"
    },
    {
     "name": "stdout",
     "output_type": "stream",
     "text": [
      "ANOVA p-value: 8.284437395450216e-29\n"
     ]
    }
   ],
   "source": [
    "# 資料\n",
    "data = df_MidAndHard\n",
    "\n",
    "# 分組資料\n",
    "groups = data.groupby('mission_difficulty')['first_correct_rate'].apply(list)\n",
    "\n",
    "# ANOVA 分析\n",
    "anova_result = stats.f_oneway(*groups)\n",
    "anova_result_pvalue = anova_result.pvalue\n",
    "\n",
    "# 繪製箱線圖\n",
    "plt.figure(figsize=(8, 6))\n",
    "sns.boxplot(x='mission_difficulty', y='first_correct_rate', data=data, hue='mission_difficulty', palette='Set2', legend=False)\n",
    "plt.title('Initial Correct Rate by Difficulty Level', fontsize=16)\n",
    "plt.xlabel('Difficulty Level', fontsize=14)\n",
    "plt.ylabel('First Correct Rate', fontsize=14)\n",
    "plt.show()\n",
    "\n",
    "# 印出 p-value 結果\n",
    "print(f\"ANOVA p-value: {anova_result_pvalue}\")"
   ]
  },
  {
   "cell_type": "markdown",
   "metadata": {},
   "source": [
    "# 簡單與困難題目之ANOVA分析"
   ]
  },
  {
   "cell_type": "code",
   "execution_count": 25,
   "metadata": {},
   "outputs": [],
   "source": [
    "df_EasyAndHard = df_DiffAndPass[\n",
    "    (df_DiffAndPass[\"mission_difficulty\"] == \"Easy\") |\n",
    "    (df_DiffAndPass[\"mission_difficulty\"] == \"Hard\")\n",
    "]"
   ]
  },
  {
   "cell_type": "code",
   "execution_count": 26,
   "metadata": {},
   "outputs": [
    {
     "data": {
      "image/png": "[encoded data removed]",
      "text/plain": [
       "<Figure size 800x600 with 1 Axes>"
      ]
     },
     "metadata": {},
     "output_type": "display_data"
    },
    {
     "name": "stdout",
     "output_type": "stream",
     "text": [
      "ANOVA p-value: 6.359809504261657e-133\n"
     ]
    }
   ],
   "source": [
    "# 資料\n",
    "data = df_EasyAndHard\n",
    "\n",
    "# 分組資料\n",
    "groups = data.groupby('mission_difficulty')['first_correct_rate'].apply(list)\n",
    "\n",
    "# ANOVA 分析\n",
    "anova_result = stats.f_oneway(*groups)\n",
    "anova_result_pvalue = anova_result.pvalue\n",
    "\n",
    "# 繪製箱線圖\n",
    "plt.figure(figsize=(8, 6))\n",
    "sns.boxplot(x='mission_difficulty', y='first_correct_rate', data=data, hue='mission_difficulty', palette='Set2', legend=False)\n",
    "plt.title('Initial Correct Rate by Difficulty Level', fontsize=16)\n",
    "plt.xlabel('Difficulty Level', fontsize=14)\n",
    "plt.ylabel('First Correct Rate', fontsize=14)\n",
    "plt.show()\n",
    "\n",
    "# 印出 p-value 結果\n",
    "print(f\"ANOVA p-value: {anova_result_pvalue}\")"
   ]
  },
  {
   "cell_type": "markdown",
   "metadata": {
    "id": "4KYM_9Gpv_Ot"
   },
   "source": [
    "# 成績部分"
   ]
  },
  {
   "cell_type": "code",
   "execution_count": 27,
   "metadata": {
    "id": "fmBhsoWFjvrd"
   },
   "outputs": [],
   "source": [
    "df = pd.read_csv('A_stat_data_112.csv')\n",
    "df2 = df.copy()\n",
    "\n",
    "df_DiffAndPass = df2[['first_correct_rate', 'mission_difficulty','grade']].dropna()\n",
    "\n",
    "# 定義一個函數來轉換難度等級\n",
    "def translate_difficulty(difficulty):\n",
    "    if difficulty == \"易\":\n",
    "        return \"Easy\"\n",
    "    elif difficulty == \"中\":\n",
    "        return \"Medium\"\n",
    "    elif difficulty == \"難\":\n",
    "        return \"Hard\"\n",
    "    else:\n",
    "        return difficulty  # 如果遇到未知的值，保持原樣\n",
    "\n",
    "# 使用 apply 函數應用到 mission_difficulty 欄位\n",
    "df_DiffAndPass[\"mission_difficulty\"] = df_DiffAndPass[\"mission_difficulty\"].apply(translate_difficulty)"
   ]
  },
  {
   "cell_type": "code",
   "execution_count": 28,
   "metadata": {
    "colab": {
     "base_uri": "https://localhost:8080/",
     "height": 1000
    },
    "id": "hR5pKllQwCpO",
    "outputId": "16ffb3ef-dd86-4914-a60e-ac011224af4b"
   },
   "outputs": [
    {
     "name": "stdout",
     "output_type": "stream",
     "text": [
      "不同的年級有： [4 5 6 7 8 9]\n"
     ]
    },
    {
     "data": {
      "image/png": "[encoded data removed]",
      "text/plain": [
       "<Figure size 640x480 with 1 Axes>"
      ]
     },
     "metadata": {},
     "output_type": "display_data"
    },
    {
     "data": {
      "image/png": "[encoded data removed]",
      "text/plain": [
       "<Figure size 640x480 with 1 Axes>"
      ]
     },
     "metadata": {},
     "output_type": "display_data"
    },
    {
     "data": {
      "image/png": "[encoded data removed]",
      "text/plain": [
       "<Figure size 640x480 with 1 Axes>"
      ]
     },
     "metadata": {},
     "output_type": "display_data"
    },
    {
     "data": {
      "image/png": "[encoded data removed]",
      "text/plain": [
       "<Figure size 640x480 with 1 Axes>"
      ]
     },
     "metadata": {},
     "output_type": "display_data"
    },
    {
     "data": {
      "image/png": "[encoded data removed]",
      "text/plain": [
       "<Figure size 640x480 with 1 Axes>"
      ]
     },
     "metadata": {},
     "output_type": "display_data"
    },
    {
     "data": {
      "image/png": "[encoded data removed]",
      "text/plain": [
       "<Figure size 640x480 with 1 Axes>"
      ]
     },
     "metadata": {},
     "output_type": "display_data"
    }
   ],
   "source": [
    "unique_grades = df_DiffAndPass['grade'].unique()\n",
    "unique_grades.sort()\n",
    "print(\"不同的年級有：\", unique_grades)\n",
    "\n",
    "df_grades = {}\n",
    "\n",
    "# 遍歷年級列表，生成對應的 DataFrame\n",
    "for grade in unique_grades:\n",
    "    df_grades[f\"Grade {grade}\"] = df_DiffAndPass[df_DiffAndPass['grade'] == grade]\n",
    "\n",
    "\n",
    "for grade, df in df_grades.items():\n",
    "    # 計算每個難度的 first_correct_rate 平均值\n",
    "    avg_correct_rate = df.groupby('mission_difficulty')['first_correct_rate'].mean()\n",
    "\n",
    "    # 繪製柱狀圖\n",
    "    plt.bar(avg_correct_rate.index, avg_correct_rate.values, color=['skyblue', 'orange', 'lightgreen'])\n",
    "    plt.title(f\"Average correct answer rate for each difficulty level - {grade} \")\n",
    "    plt.xlabel(\"Difficulty Level\")\n",
    "    plt.ylabel(\"Mean of First Correct Rate\")\n",
    "\n",
    "    # 設定 y 軸的範圍 0.37 到 0.56\n",
    "    plt.ylim(0.37, 0.56)\n",
    "\n",
    "    # 顯示每個柱狀圖的精確值\n",
    "    for i, v in enumerate(avg_correct_rate):\n",
    "        plt.text(i, v + 0.01, f\"{v:.4f}\", ha='center')  # 小數點保留後四位\n",
    "\n",
    "    plt.show()"
   ]
  },
  {
   "cell_type": "code",
   "execution_count": 29,
   "metadata": {
    "colab": {
     "base_uri": "https://localhost:8080/",
     "height": 753
    },
    "id": "n06zS-n-35zl",
    "outputId": "fb83b743-94c0-484a-f24d-b071f4172162"
   },
   "outputs": [
    {
     "name": "stdout",
     "output_type": "stream",
     "text": [
      "不同的年級有： [4 5 6 7 8 9]\n",
      "不同的難度有： ['Easy' 'Hard' 'Medium']\n",
      "\n",
      "ANOVA 結果：\n",
      "       難度          F值             p值\n",
      "0    Easy  342.451446   0.000000e+00\n",
      "1    Hard  211.981689  2.871142e-225\n",
      "2  Medium  851.852150   0.000000e+00\n"
     ]
    },
    {
     "data": {
      "image/png": "[encoded data removed]",
      "text/plain": [
       "<Figure size 1200x600 with 1 Axes>"
      ]
     },
     "metadata": {},
     "output_type": "display_data"
    }
   ],
   "source": [
    "\n",
    "df = pd.read_csv('A_stat_data_112.csv')\n",
    "df2 = df.copy()\n",
    "\n",
    "df_DiffAndPass = df2[['first_correct_rate', 'mission_difficulty','grade']].dropna()\n",
    "\n",
    "# 定義一個函數來轉換難度等級\n",
    "def translate_difficulty(difficulty):\n",
    "    if difficulty == \"易\":\n",
    "        return \"Easy\"\n",
    "    elif difficulty == \"中\":\n",
    "        return \"Medium\"\n",
    "    elif difficulty == \"難\":\n",
    "        return \"Hard\"\n",
    "    else:\n",
    "        return difficulty  # 如果遇到未知的值，保持原樣\n",
    "\n",
    "# 使用 apply 函數應用到 mission_difficulty 欄位\n",
    "df_DiffAndPass[\"mission_difficulty\"] = df_DiffAndPass[\"mission_difficulty\"].apply(translate_difficulty)\n",
    "\n",
    "# 獲取唯一的年級和難度\n",
    "unique_grades = df_DiffAndPass['grade'].unique()\n",
    "unique_grades.sort()\n",
    "unique_difficulties = df_DiffAndPass['mission_difficulty'].unique()\n",
    "unique_difficulties.sort()\n",
    "\n",
    "print(\"不同的年級有：\", unique_grades)\n",
    "print(\"不同的難度有：\", unique_difficulties)\n",
    "\n",
    "# 使用 ANOVA 比較每個年級在不同難度上的首次答題率差異\n",
    "anova_results = []\n",
    "for difficulty in unique_difficulties:\n",
    "    # 按照難度過濾數據\n",
    "    data_by_difficulty = df_DiffAndPass[df_DiffAndPass['mission_difficulty'] == difficulty]\n",
    "\n",
    "    # 準備每個年級的數據\n",
    "    data_by_grade = [data_by_difficulty[data_by_difficulty['grade'] == grade]['first_correct_rate']\n",
    "                     for grade in unique_grades]\n",
    "\n",
    "    # 執行 ANOVA 測試\n",
    "    f_stat, p_value = f_oneway(*data_by_grade)\n",
    "    anova_results.append({'難度': difficulty, 'F值': f_stat, 'p值': p_value})\n",
    "\n",
    "# 將 ANOVA 結果輸出為表格\n",
    "anova_df = pd.DataFrame(anova_results)\n",
    "print(\"\\nANOVA 結果：\")\n",
    "print(anova_df)\n",
    "\n",
    "# 繪製箱型圖以視覺化數據分佈\n",
    "plt.figure(figsize=(12, 6))\n",
    "sns.boxplot(data=df_DiffAndPass, x='mission_difficulty', y='first_correct_rate', hue='grade')\n",
    "plt.title('Average correct answer rate for each difficulty')\n",
    "plt.xlabel('difficulty level')\n",
    "plt.ylabel('Mean of First Correct Rate')\n",
    "plt.legend(title='grade', bbox_to_anchor=(1.05, 1), loc='upper left')\n",
    "plt.tight_layout()\n",
    "plt.show()\n"
   ]
  },
  {
   "cell_type": "code",
   "execution_count": 30,
   "metadata": {
    "colab": {
     "base_uri": "https://localhost:8080/",
     "height": 753
    },
    "id": "jFwqLmFPSvwB",
    "outputId": "066da0f7-ceed-40c2-ce57-138834169ffa"
   },
   "outputs": [
    {
     "name": "stdout",
     "output_type": "stream",
     "text": [
      "不同的年級有： [4 5 6 7 8 9]\n",
      "不同的難度有： ['Easy' 'Hard' 'Medium']\n",
      "\n",
      "ANOVA 結果：\n",
      "       難度          F值             p值 顯著性\n",
      "0    Easy  342.451446   0.000000e+00  顯著\n",
      "1    Hard  211.981689  2.871142e-225  顯著\n",
      "2  Medium  851.852150   0.000000e+00  顯著\n"
     ]
    },
    {
     "data": {
      "image/png": "[encoded data removed]",
      "text/plain": [
       "<Figure size 1200x600 with 1 Axes>"
      ]
     },
     "metadata": {},
     "output_type": "display_data"
    }
   ],
   "source": [
    "# 獲取唯一的年級和難度\n",
    "unique_grades = df_DiffAndPass['grade'].unique()\n",
    "unique_grades.sort()\n",
    "unique_difficulties = df_DiffAndPass['mission_difficulty'].unique()\n",
    "unique_difficulties.sort()\n",
    "\n",
    "print(\"不同的年級有：\", unique_grades)\n",
    "print(\"不同的難度有：\", unique_difficulties)\n",
    "\n",
    "# 使用 ANOVA 比較每個年級在不同難度上的首次答題率差異\n",
    "anova_results = []\n",
    "alpha = 0.05  # 顯著性水準\n",
    "\n",
    "for difficulty in unique_difficulties:\n",
    "    # 按照難度過濾數據\n",
    "    data_by_difficulty = df_DiffAndPass[df_DiffAndPass['mission_difficulty'] == difficulty]\n",
    "\n",
    "    # 準備每個年級的數據\n",
    "    data_by_grade = [\n",
    "        data_by_difficulty[data_by_difficulty['grade'] == grade]['first_correct_rate']\n",
    "        for grade in unique_grades\n",
    "    ]\n",
    "\n",
    "    # 執行 ANOVA 測試\n",
    "    f_stat, p_value = f_oneway(*data_by_grade)\n",
    "\n",
    "    # 判斷顯著性\n",
    "    significant = \"顯著\" if p_value < alpha else \"不顯著\"\n",
    "\n",
    "    # 儲存結果\n",
    "    anova_results.append({\n",
    "        '難度': difficulty,\n",
    "        'F值': f_stat,\n",
    "        'p值': p_value,\n",
    "        '顯著性': significant\n",
    "    })\n",
    "\n",
    "# 將 ANOVA 結果輸出為表格\n",
    "anova_df = pd.DataFrame(anova_results)\n",
    "print(\"\\nANOVA 結果：\")\n",
    "print(anova_df)\n",
    "\n",
    "# 繪製箱型圖以視覺化數據分佈\n",
    "plt.figure(figsize=(12, 6))\n",
    "sns.boxplot(data=df_DiffAndPass, x='mission_difficulty', y='first_correct_rate', hue='grade')\n",
    "plt.title('Distribution of First Correct Rate for different difficulty levels and grades')\n",
    "plt.xlabel('Difficulty Level')\n",
    "plt.ylabel('First Correct Rate')\n",
    "plt.legend(title='Grade', bbox_to_anchor=(1.05, 1), loc='upper left')\n",
    "plt.tight_layout()\n",
    "plt.show()"
   ]
  },
  {
   "cell_type": "markdown",
   "metadata": {
    "id": "9KXuI1inmvs5"
   },
   "source": [
    "# 設計可行的自適化測驗框架"
   ]
  },
  {
   "cell_type": "code",
   "execution_count": 31,
   "metadata": {
    "colab": {
     "base_uri": "https://localhost:8080/"
    },
    "id": "qsJAqHqgm_gf",
    "outputId": "c6a214d5-7729-4509-b9f1-247a7aaf438e"
   },
   "outputs": [
    {
     "name": "stdout",
     "output_type": "stream",
     "text": [
      "Mean Squared Error: 0.10068119811612147\n",
      "R-squared: 0.0297979072577772\n",
      "               Feature  Coefficient\n",
      "0                grade     0.002453\n",
      "1   mission_difficulty    -0.018670\n",
      "2  answer_duration_sec     0.000168\n",
      "Predicted First Correct Rate: 0.45102109170302174\n",
      "推薦: 保持現有難度\n"
     ]
    },
    {
     "name": "stderr",
     "output_type": "stream",
     "text": [
      "c:\\Users\\mason\\Desktop\\作業\\通識\\學習分析工具\\LATIA113-1\\.venv\\Lib\\site-packages\\sklearn\\base.py:493: UserWarning:\n",
      "\n",
      "X does not have valid feature names, but LinearRegression was fitted with feature names\n",
      "\n"
     ]
    }
   ],
   "source": [
    "# 1. 資料載入與清理\n",
    "df = pd.read_csv('A_stat_data_112.csv')\n",
    "\n",
    "# 選取需要的特徵\n",
    "df_combined = pd.DataFrame({\n",
    "    'grade': df['grade'],\n",
    "    'mission_difficulty': df['mission_difficulty'],\n",
    "    'first_correct_rate': df['first_correct_rate'],\n",
    "    'answer_duration_sec': df['answer_duration_sec']\n",
    "})\n",
    "\n",
    "# 去除缺失值\n",
    "df_combined.dropna(inplace=True)\n",
    "\n",
    "# 將 mission_difficulty 類別數值化\n",
    "difficulty_mapping = {'易': 1, '中': 2, '難': 3}\n",
    "df_combined['mission_difficulty'] = df_combined['mission_difficulty'].map(difficulty_mapping)\n",
    "\n",
    "# 2. 設定特徵與目標變數\n",
    "X = df_combined[['grade', 'mission_difficulty', 'answer_duration_sec']]\n",
    "y = df_combined['first_correct_rate']\n",
    "\n",
    "# 3. 資料集分割\n",
    "X_train, X_test, y_train, y_test = train_test_split(X, y, test_size=0.2, random_state=42)\n",
    "\n",
    "# 4. 線性回歸模型\n",
    "model = LinearRegression()\n",
    "model.fit(X_train, y_train)\n",
    "\n",
    "# 5. 預測與評估\n",
    "y_pred = model.predict(X_test)\n",
    "\n",
    "# 評估指標\n",
    "mse = mean_squared_error(y_test, y_pred)\n",
    "r2 = r2_score(y_test, y_pred)\n",
    "\n",
    "print(f\"Mean Squared Error: {mse}\")\n",
    "print(f\"R-squared: {r2}\")\n",
    "\n",
    "# 6. 顯示模型係數\n",
    "coefficients = pd.DataFrame({\n",
    "    'Feature': X.columns,\n",
    "    'Coefficient': model.coef_\n",
    "})\n",
    "print(coefficients)\n",
    "\n",
    "# 7. 使用模型進行自適化測驗推薦\n",
    "# 假設測驗者數據\n",
    "test_user = np.array([[8, 2, 30]])  # 八年級，任務難度「中」，答題時間 30 秒\n",
    "predicted_rate = model.predict(test_user)\n",
    "print(f\"Predicted First Correct Rate: {predicted_rate[0]}\")\n",
    "\n",
    "# 根據預測值推薦題目難度\n",
    "if predicted_rate > 0.55:\n",
    "    recommendation = \"提升難度\"\n",
    "elif predicted_rate < 0.45:\n",
    "    recommendation = \"降低難度\"\n",
    "else:\n",
    "    recommendation = \"保持現有難度\"\n",
    "print(f\"推薦: {recommendation}\")\n"
   ]
  }
 ],
 "metadata": {
  "colab": {
   "collapsed_sections": [
    "bDMx6prjzBI_",
    "EeCAiIxfEns4",
    "OuA4jmgj92ee"
   ],
   "provenance": [],
   "toc_visible": true
  },
  "kernelspec": {
   "display_name": ".venv",
   "language": "python",
   "name": "python3"
  },
  "language_info": {
   "codemirror_mode": {
    "name": "ipython",
    "version": 3
   },
   "file_extension": ".py",
   "mimetype": "text/x-python",
   "name": "python",
   "nbconvert_exporter": "python",
   "pygments_lexer": "ipython3",
   "version": "3.11.9"
  }
 },
 "nbformat": 4,
 "nbformat_minor": 0
}
